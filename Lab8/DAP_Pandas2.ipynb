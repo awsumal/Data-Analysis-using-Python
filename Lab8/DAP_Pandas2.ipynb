{
  "nbformat": 4,
  "nbformat_minor": 0,
  "metadata": {
    "colab": {
      "name": "DAP Pandas2.ipynb",
      "provenance": [],
      "collapsed_sections": []
    },
    "kernelspec": {
      "name": "python3",
      "display_name": "Python 3"
    },
    "language_info": {
      "name": "python"
    }
  },
  "cells": [
    {
      "cell_type": "markdown",
      "metadata": {
        "id": "EuxWvms-v9Ze"
      },
      "source": [
        "Pandas Index and Selecting Data"
      ]
    },
    {
      "cell_type": "code",
      "metadata": {
        "id": "rd-qryHUW-un",
        "colab": {
          "base_uri": "https://localhost:8080/"
        },
        "outputId": "f5edf651-d3fa-4cd7-c05f-32113dbad857"
      },
      "source": [
        "import pandas as pd\n",
        "import numpy as np\n",
        "\n",
        "df = pd.DataFrame(np.random.randn(8, 4),\n",
        "index = ['a','b','c','d','e','f','g','h'], columns = ['A', 'B', 'C', 'D'])\n",
        "\n",
        "#select all rows for a specific column\n",
        "print(df.loc[:,'A'],'\\n')\n",
        "\n",
        "# Select all rows for multiple columns, say list[]\n",
        "print(df.loc[:,['A','C']],'\\n')\n",
        "\n",
        "# Select few rows for multiple columns, say list[]\n",
        "print(df.loc[['a','b','f','h'],['A','C']])"
      ],
      "execution_count": null,
      "outputs": [
        {
          "output_type": "stream",
          "name": "stdout",
          "text": [
            "a   -0.660480\n",
            "b    1.495407\n",
            "c    0.224211\n",
            "d    2.712920\n",
            "e   -0.037679\n",
            "f   -0.604411\n",
            "g   -1.570894\n",
            "h    0.073878\n",
            "Name: A, dtype: float64 \n",
            "\n",
            "          A         C\n",
            "a -0.660480 -0.272436\n",
            "b  1.495407  1.480672\n",
            "c  0.224211 -0.572076\n",
            "d  2.712920 -0.610116\n",
            "e -0.037679 -0.302579\n",
            "f -0.604411  1.842179\n",
            "g -1.570894  0.234154\n",
            "h  0.073878  0.506091 \n",
            "\n",
            "          A         C\n",
            "a -0.660480 -0.272436\n",
            "b  1.495407  1.480672\n",
            "f -0.604411  1.842179\n",
            "h  0.073878  0.506091\n"
          ]
        }
      ]
    },
    {
      "cell_type": "code",
      "metadata": {
        "colab": {
          "base_uri": "https://localhost:8080/"
        },
        "id": "gXwtRaiawxZi",
        "outputId": "1862b48d-385a-471c-b3e2-d8fdacdbf1f1"
      },
      "source": [
        "# Select range of rows for all columns\n",
        "print(df.loc['a':'d'],'\\n')\n",
        "\n",
        "# For getting values with a boolean array\n",
        "print(df.loc['a']>0,'\\n')\n",
        "\n",
        "# select all rows for a specific column\n",
        "print(df.iloc[:4])"
      ],
      "execution_count": null,
      "outputs": [
        {
          "output_type": "stream",
          "name": "stdout",
          "text": [
            "          A         B         C         D\n",
            "a -0.660480 -0.223393 -0.272436  0.738605\n",
            "b  1.495407  0.007590  1.480672  0.313712\n",
            "c  0.224211  0.524557 -0.572076 -0.827286\n",
            "d  2.712920 -0.513437 -0.610116  0.915804 \n",
            "\n",
            "A    False\n",
            "B    False\n",
            "C    False\n",
            "D     True\n",
            "Name: a, dtype: bool \n",
            "\n",
            "          A         B         C         D\n",
            "a -0.660480 -0.223393 -0.272436  0.738605\n",
            "b  1.495407  0.007590  1.480672  0.313712\n",
            "c  0.224211  0.524557 -0.572076 -0.827286\n",
            "d  2.712920 -0.513437 -0.610116  0.915804\n"
          ]
        }
      ]
    },
    {
      "cell_type": "markdown",
      "metadata": {
        "id": "eY1pt713xjoH"
      },
      "source": [
        "Integer and Index Slicing"
      ]
    },
    {
      "cell_type": "code",
      "metadata": {
        "colab": {
          "base_uri": "https://localhost:8080/"
        },
        "id": "DjgqWcR-x0cI",
        "outputId": "fc621291-1a86-4eb6-bc12-f59651c6f298"
      },
      "source": [
        "# Integer slicing\n",
        "print(\"Integer Slicing\")\n",
        "print(df.iloc[:4],'\\n')\n",
        "print(df.iloc[1:5, 2:4],'\\n')\n",
        "\n",
        "# Slicing through a list of values\n",
        "print(\"Slicing through a list of values\")\n",
        "print(df.iloc[[1, 3, 5], [1, 3]],'\\n')\n",
        "print(df.iloc[1:3, :],'\\n')\n",
        "print(df.iloc[:,1:3])"
      ],
      "execution_count": null,
      "outputs": [
        {
          "output_type": "stream",
          "name": "stdout",
          "text": [
            "Integer Slicing\n",
            "          A         B         C         D\n",
            "a -0.660480 -0.223393 -0.272436  0.738605\n",
            "b  1.495407  0.007590  1.480672  0.313712\n",
            "c  0.224211  0.524557 -0.572076 -0.827286\n",
            "d  2.712920 -0.513437 -0.610116  0.915804 \n",
            "\n",
            "          C         D\n",
            "b  1.480672  0.313712\n",
            "c -0.572076 -0.827286\n",
            "d -0.610116  0.915804\n",
            "e -0.302579 -0.424715 \n",
            "\n",
            "Slicing through a list of values\n",
            "          B         D\n",
            "b  0.007590  0.313712\n",
            "d -0.513437  0.915804\n",
            "f  1.343966 -1.077907 \n",
            "\n",
            "          A         B         C         D\n",
            "b  1.495407  0.007590  1.480672  0.313712\n",
            "c  0.224211  0.524557 -0.572076 -0.827286 \n",
            "\n",
            "          B         C\n",
            "a -0.223393 -0.272436\n",
            "b  0.007590  1.480672\n",
            "c  0.524557 -0.572076\n",
            "d -0.513437 -0.610116\n",
            "e  3.633740 -0.302579\n",
            "f  1.343966  1.842179\n",
            "g -0.456820  0.234154\n",
            "h -1.638495  0.506091\n"
          ]
        }
      ]
    },
    {
      "cell_type": "markdown",
      "metadata": {
        "id": "tQNUpMNszKW9"
      },
      "source": [
        "Pandas DataFrame Sorting"
      ]
    },
    {
      "cell_type": "code",
      "metadata": {
        "colab": {
          "base_uri": "https://localhost:8080/"
        },
        "id": "T0RcrrWOzsGX",
        "outputId": "b82b1f21-aa94-48a7-8f96-c93690f542ae"
      },
      "source": [
        "unsorted_df=pd.DataFrame(np.random.randn(8,2),index=[1,4,6,2,3,5,0,7],columns=['col2','col1'])\n",
        "print(\"Unsorted DataFrame\\n\",unsorted_df)\n",
        "\n",
        "# Sorting index in ascending order\n",
        "sorted_df=unsorted_df.sort_index()\n",
        "print('\\n',sorted_df,'\\n')\n",
        "\n",
        "# Sorting index in descending order\n",
        "sorted_df = unsorted_df.sort_index(ascending=False)\n",
        "print(sorted_df)"
      ],
      "execution_count": null,
      "outputs": [
        {
          "output_type": "stream",
          "name": "stdout",
          "text": [
            "Unsorted DataFrame\n",
            "        col2      col1\n",
            "1 -0.722302 -1.439385\n",
            "4 -1.428118 -0.196661\n",
            "6  2.044815 -0.305100\n",
            "2  0.014601 -0.667543\n",
            "3 -0.881335 -0.073252\n",
            "5 -0.327825 -0.451010\n",
            "0 -0.234624 -0.605275\n",
            "7  1.034371 -0.588796\n",
            "\n",
            "        col2      col1\n",
            "0 -0.234624 -0.605275\n",
            "1 -0.722302 -1.439385\n",
            "2  0.014601 -0.667543\n",
            "3 -0.881335 -0.073252\n",
            "4 -1.428118 -0.196661\n",
            "5 -0.327825 -0.451010\n",
            "6  2.044815 -0.305100\n",
            "7  1.034371 -0.588796 \n",
            "\n",
            "       col2      col1\n",
            "7  1.034371 -0.588796\n",
            "6  2.044815 -0.305100\n",
            "5 -0.327825 -0.451010\n",
            "4 -1.428118 -0.196661\n",
            "3 -0.881335 -0.073252\n",
            "2  0.014601 -0.667543\n",
            "1 -0.722302 -1.439385\n",
            "0 -0.234624 -0.605275\n"
          ]
        }
      ]
    },
    {
      "cell_type": "code",
      "metadata": {
        "id": "Qlur53Jr0znx",
        "colab": {
          "base_uri": "https://localhost:8080/"
        },
        "outputId": "55d59b4d-ece2-4859-baee-e624881db783"
      },
      "source": [
        "# Sorting the column index\n",
        "sorted_df=unsorted_df.sort_index(axis=1)\n",
        "print(sorted_df)\n",
        "\n",
        "# Sorting by column\n",
        "unsorted_df2 = pd.DataFrame({'col1':[2,1,1,1],'col2':[1,3,2,4]})\n",
        "sorted_df = unsorted_df2.sort_values(by='col1')\n",
        "print('\\n',sorted_df,'\\n')\n",
        "\n",
        "# Sorting by multiple columns\n",
        "sorted_df = unsorted_df2.sort_values(by=['col1','col2'])\n",
        "print(sorted_df,'\\n')\n",
        "\n",
        "# Using specific kind of sorting algorithm\n",
        "sorted_df = unsorted_df2.sort_values(by='col1' ,kind='mergesort')\n",
        "print(sorted_df)"
      ],
      "execution_count": null,
      "outputs": [
        {
          "output_type": "stream",
          "name": "stdout",
          "text": [
            "       col1      col2\n",
            "1 -1.439385 -0.722302\n",
            "4 -0.196661 -1.428118\n",
            "6 -0.305100  2.044815\n",
            "2 -0.667543  0.014601\n",
            "3 -0.073252 -0.881335\n",
            "5 -0.451010 -0.327825\n",
            "0 -0.605275 -0.234624\n",
            "7 -0.588796  1.034371\n",
            "\n",
            "    col1  col2\n",
            "1     1     3\n",
            "2     1     2\n",
            "3     1     4\n",
            "0     2     1 \n",
            "\n",
            "   col1  col2\n",
            "2     1     2\n",
            "1     1     3\n",
            "3     1     4\n",
            "0     2     1 \n",
            "\n",
            "   col1  col2\n",
            "1     1     3\n",
            "2     1     2\n",
            "3     1     4\n",
            "0     2     1\n"
          ]
        }
      ]
    }
  ]
}