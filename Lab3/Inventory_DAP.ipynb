{
  "nbformat": 4,
  "nbformat_minor": 0,
  "metadata": {
    "colab": {
      "name": "Inventory DAP.ipynb",
      "provenance": [],
      "collapsed_sections": []
    },
    "kernelspec": {
      "name": "python3",
      "display_name": "Python 3"
    },
    "language_info": {
      "name": "python"
    }
  },
  "cells": [
    {
      "cell_type": "code",
      "metadata": {
        "colab": {
          "base_uri": "https://localhost:8080/"
        },
        "id": "Dyc_QUKx_8Ou",
        "outputId": "3b4b5b90-5ce7-46d2-9769-5c1272a14bcc"
      },
      "source": [
        "def show():\n",
        "  s = [[str(e) for e in row] for row in h]\n",
        "  lens = [max(map(len, col)) for col in zip(*s)]\n",
        "  fmt = '\\t'.join('{{:{}}}'.format(x) for x in lens)\n",
        "  table = [fmt.format(*row) for row in s]\n",
        "  print('\\n'.join(table))\n",
        "  \n",
        "def checkInven():\n",
        "  for i in range(1,len(h)):\n",
        "    if(h[i][2]<=5):\n",
        "      print(\"\\nStock replinished\")\n",
        "      h[i][2]=20\n",
        "\n",
        "h=[['Name','Price','Quantity', 'Manufacturer'],['Mouse',500,20,'HP'],['Keyboard',1000,15,'Logitech'],['Monitor',2500,10,'Asus'],['MS Office 2021',1000,25,'Microsoft']]\n",
        "n='a'\n",
        "cost=0\n",
        "while(n!='e'):\n",
        "  checkInven()\n",
        "  print(\"\\nInventory is\\n\")\n",
        "  show()\n",
        "  n=input(\"\\np : purchase\\nc : count\\ne : exit\\n\")\n",
        "  if(n=='p'):\n",
        "    a=int(input(\"Enter the index (1=Mouse, 2=Keyboard..) \"))\n",
        "    if(a>4):\n",
        "      print(\"Incorrect option. Try again.\")\n",
        "      continue\n",
        "    count=int(input(\"How many units you want to buy? \"))\n",
        "    if(h[a][2]<count):\n",
        "      print(\"Sorry.. not enough stock\")\n",
        "    else:\n",
        "      h[a][2]-=count\n",
        "      print(\"Purchase successful\")\n",
        "      cost+=h[a][1]*count\n",
        "  elif(n=='c'):\n",
        "    b=int(input(\"Enter the index (1=Mouse, 2=Keyboard..) \"))\n",
        "    if(b>4):\n",
        "      print(\"Incorrect option. Try again.\")\n",
        "      continue\n",
        "    print(\"Stock left is \",h[b][2])\n",
        "  elif(n=='e'):\n",
        "    pass\n",
        "  else:\n",
        "    print(\"Incorrect option. Try again.\")\n",
        "print(\"\\nYour total bill amount is \",cost,\"\\nThank you for doing business with us.\")"
      ],
      "execution_count": null,
      "outputs": [
        {
          "output_type": "stream",
          "text": [
            "\n",
            "Inventory is\n",
            "\n",
            "Name          \tPrice\tQuantity\tManufacturer\n",
            "Mouse         \t500  \t20      \tHP          \n",
            "Keyboard      \t1000 \t15      \tLogitech    \n",
            "Monitor       \t2500 \t10      \tAsus        \n",
            "MS Office 2021\t1000 \t25      \tMicrosoft   \n",
            "\n",
            "p : purchase\n",
            "c : count\n",
            "e : exit\n",
            "p\n",
            "Enter the index (1=Mouse, 2=Keyboard..) 1\n",
            "How many units you want to buy? 10\n",
            "Purchase successful\n",
            "\n",
            "Inventory is\n",
            "\n",
            "Name          \tPrice\tQuantity\tManufacturer\n",
            "Mouse         \t500  \t10      \tHP          \n",
            "Keyboard      \t1000 \t15      \tLogitech    \n",
            "Monitor       \t2500 \t10      \tAsus        \n",
            "MS Office 2021\t1000 \t25      \tMicrosoft   \n",
            "\n",
            "p : purchase\n",
            "c : count\n",
            "e : exit\n",
            "p\n",
            "Enter the index (1=Mouse, 2=Keyboard..) 2\n",
            "How many units you want to buy? 10\n",
            "Purchase successful\n",
            "\n",
            "Stock replinished\n",
            "\n",
            "Inventory is\n",
            "\n",
            "Name          \tPrice\tQuantity\tManufacturer\n",
            "Mouse         \t500  \t10      \tHP          \n",
            "Keyboard      \t1000 \t20      \tLogitech    \n",
            "Monitor       \t2500 \t10      \tAsus        \n",
            "MS Office 2021\t1000 \t25      \tMicrosoft   \n",
            "\n",
            "p : purchase\n",
            "c : count\n",
            "e : exit\n",
            "e\n",
            "\n",
            "Your total bill amount is  15000 \n",
            "Thank you for doinf business with us.\n"
          ],
          "name": "stdout"
        }
      ]
    }
  ]
}