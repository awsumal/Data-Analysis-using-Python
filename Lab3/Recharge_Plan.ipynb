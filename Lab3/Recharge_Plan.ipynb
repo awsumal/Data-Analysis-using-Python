{
  "nbformat": 4,
  "nbformat_minor": 0,
  "metadata": {
    "colab": {
      "name": "Recharge Plan.ipynb",
      "provenance": [],
      "collapsed_sections": []
    },
    "kernelspec": {
      "name": "python3",
      "display_name": "Python 3"
    },
    "language_info": {
      "name": "python"
    }
  },
  "cells": [
    {
      "cell_type": "code",
      "metadata": {
        "colab": {
          "base_uri": "https://localhost:8080/"
        },
        "id": "QsE-0fLQoBpw",
        "outputId": "326c29c2-41ba-4f62-d5cd-829ac00d226f"
      },
      "source": [
        "import sys\n",
        "v=[ ['Sl no.', 'Talktime(mins)', 'Price', 'Validity'],[1,200,100,28],[2,400,180,56],[3,500,220,56],[4,999,599,84]]\n",
        "d=[['Sl no.', 'Data(Gb)', 'Price', 'Validity'],[1,5,100,28],[2,10,180,56],[3,15,220,56],[4,100,599,84]]\n",
        "inter=[['Sl no.', 'Talktime(mins)', 'Price', 'Validity'],[1,200,599,14],[2,500,999,28]]\n",
        "tu=[['Sl no.', 'Talktime(mins)', 'Price', 'Validity'],[1,100,120,84],[2,200,240,84],[3,300,360,84],[4,500,550,84]]\n",
        "\n",
        "def show(x):\n",
        "  print('\\n')\n",
        "  s = [[str(e) for e in row] for row in x]\n",
        "  lens = [max(map(len, col)) for col in zip(*s)]\n",
        "  fmt = '\\t'.join('{{:{}}}'.format(x) for x in lens)\n",
        "  table = [fmt.format(*row) for row in s]\n",
        "  print('\\n'.join(table))\n",
        "\n",
        "print(\"Welcome to Al Recharge Services\")\n",
        "no=int(input(\"Enter 10 digit mobile no. \"))\n",
        "x=str(no)\n",
        "if(len(x)!=10):\n",
        "  sys.exit(\"Invalid number. Recharge cancelled\")\n",
        "state=input(\"Enter your State of Service \")\n",
        "choice=10\n",
        "while(choice!=5):\n",
        "  choice=int(input(\"\\n1. Voice\\n2. Data\\n3. International Roaming\\n4. Top up\\n5. Exit\\nEnter your choice \"))\n",
        "  if choice==1:\n",
        "    show(v)\n",
        "    pack=int(input(\"Enter the pack you wish to select \"))\n",
        "    print(\"Please make payment of\",v[pack][2],\"on the payment screen.\")\n",
        "  elif choice==2:\n",
        "    show(d)\n",
        "    pack=int(input(\"Enter the pack you wish to select \"))\n",
        "    print(\"Please make payment of\",d[pack][2],\"on the payment screen.\")\n",
        "  elif choice==3:\n",
        "    show(inter)\n",
        "    pack=int(input(\"Enter the pack you wish to select \"))\n",
        "    print(\"Please make payment of\",inter[pack][2],\"on the payment screen.\")\n",
        "  elif choice==4:\n",
        "    show(du)\n",
        "    pack=int(input(\"Enter the pack you wish to select \"))\n",
        "    print(\"Please make payment of\",du[pack][2],\"on the payment screen.\")\n",
        "  elif choice==5:\n",
        "    print(\"Thank you\")\n",
        "  else:\n",
        "    print(\"Invalid choice. Recharge cancelled.\")"
      ],
      "execution_count": 5,
      "outputs": [
        {
          "output_type": "stream",
          "text": [
            "Welcome to Al Recharge Services\n",
            "Enter 10 digit mobile no. 1234567890\n",
            "Enter your State of Service KA\n",
            "\n",
            "1. Voice\n",
            "2. Data\n",
            "3. International Roaming\n",
            "4. Top up\n",
            "5. Exit\n",
            "Enter your choice 3\n",
            "\n",
            "\n",
            "Sl no.\tTalktime(mins)\tPrice\tValidity\n",
            "1     \t200           \t599  \t14      \n",
            "2     \t500           \t999  \t28      \n",
            "Enter the pack you wish to select 1\n",
            "Please make payment of 599 on the payment screen.\n",
            "\n",
            "1. Voice\n",
            "2. Data\n",
            "3. International Roaming\n",
            "4. Top up\n",
            "5. Exit\n",
            "Enter your choice 5\n",
            "Thank you\n"
          ],
          "name": "stdout"
        }
      ]
    }
  ]
}