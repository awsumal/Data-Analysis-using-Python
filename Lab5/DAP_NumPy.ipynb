{
 "cells": [
  {
   "cell_type": "markdown",
   "metadata": {
    "id": "nYsyCWKN1MwT"
   },
   "source": [
    "Basic Numpy Operations"
   ]
  },
  {
   "cell_type": "code",
   "execution_count": null,
   "metadata": {
    "colab": {
     "base_uri": "https://localhost:8080/"
    },
    "id": "lb6wHQk3uL4u",
    "outputId": "6a73c280-8f4d-4cd7-caa9-f4ddd731920c"
   },
   "outputs": [
    {
     "name": "stdout",
     "output_type": "stream",
     "text": [
      "[1 2 3]\n",
      "[[ 1  2  3  4]\n",
      " [ 5  6  7  8]\n",
      " [ 9 10 11 12]]\n"
     ]
    }
   ],
   "source": [
    "#Creating and printing 1D and 2D array\n",
    "import numpy as np\n",
    "\n",
    "a = np.array([1, 2, 3])\n",
    "b = np.array([[1 , 2, 3, 4], [5, 6, 7, 8], [9, 10, 11, 12]])\n",
    "print(a)\n",
    "print(b)"
   ]
  },
  {
   "cell_type": "code",
   "execution_count": null,
   "metadata": {
    "colab": {
     "base_uri": "https://localhost:8080/"
    },
    "id": "oeLBcNfivxWO",
    "outputId": "963aa025-02ed-48dd-c042-0949ea66a851"
   },
   "outputs": [
    {
     "name": "stdout",
     "output_type": "stream",
     "text": [
      "[0. 0.]\n",
      "[1. 1. 1. 1.]\n",
      "[1 1]\n",
      "[1. 1. 1. 1.]\n",
      "[0 1 2 3 4 5 6]\n",
      "[2 4 6 8]\n",
      "[2 4 8]\n",
      "[19 22 34 14 55 76 47  8]\n",
      "[ 8 14 19 22 34 47 55 76]\n"
     ]
    }
   ],
   "source": [
    "#Few in built numpy functions\n",
    "\n",
    "#Returns a new array of given shape and type with zeros\n",
    "c=np.zeros(2)\n",
    "print(c)\n",
    "\n",
    "#Returns a new array of given shape and type with ones\n",
    "d=np.ones(4)\n",
    "print(d)\n",
    "\n",
    "e = np.ones(2, dtype=int)\n",
    "print(e)\n",
    "\n",
    "#Returns a new array of given shape and type without initializing entries\n",
    "f=np.empty([4])\n",
    "print(f)\n",
    "\n",
    "#Returns an array with evenly spaced elements as per the interval\n",
    "g=np.arange(7)\n",
    "print(g)\n",
    "\n",
    "h=np.arange(2,9,2)\n",
    "print(h)\n",
    "\n",
    "#Returns a new array with the deletion of sub-arrays\n",
    "i=np.delete(h, 2)\n",
    "print(i)\n",
    "\n",
    "#Returns a sorted array in ascending order\n",
    "z = np.array([19, 22, 34, 14, 55, 76, 47, 8])\n",
    "print(z)\n",
    "j=np.sort(z)\n",
    "print(j)"
   ]
  },
  {
   "cell_type": "code",
   "execution_count": null,
   "metadata": {
    "colab": {
     "base_uri": "https://localhost:8080/"
    },
    "id": "_lZruRwMyHN-",
    "outputId": "caf1610c-a874-4274-d3cd-cdd32452da48"
   },
   "outputs": [
    {
     "name": "stdout",
     "output_type": "stream",
     "text": [
      "[[1 2 3]\n",
      " [4 5 6]]\n",
      "dimensions =  2 \n",
      "size =  6 \n",
      "shape = (2, 3)\n",
      "\n",
      "After reshaping\n",
      " [[1 2]\n",
      " [3 4]\n",
      " [5 6]]\n"
     ]
    }
   ],
   "source": [
    "#Return the number of dimensions, size and shape of an array\n",
    "arr = np.array([[1, 2, 3], [4, 5, 6]])\n",
    "a=arr.ndim #dimension\n",
    "b=arr.size #size\n",
    "c=arr.shape #shape\n",
    "print(arr) \n",
    "print(\"dimensions = \",a,\"\\nsize = \",b,\"\\nshape =\",c)\n",
    "\n",
    "#Shapes an array without changing the data of the array.\n",
    "y = arr.reshape(3,2)\n",
    "print(\"\\nAfter reshaping\\n\",y)"
   ]
  },
  {
   "cell_type": "markdown",
   "metadata": {
    "id": "Y9IrlTXu1QoP"
   },
   "source": [
    "Numpy Arithematic Operations"
   ]
  },
  {
   "cell_type": "code",
   "execution_count": null,
   "metadata": {
    "colab": {
     "base_uri": "https://localhost:8080/"
    },
    "id": "U93X3pMJ1Vwi",
    "outputId": "3c0e681f-4d19-44c6-e929-0848b697f8c3"
   },
   "outputs": [
    {
     "name": "stdout",
     "output_type": "stream",
     "text": [
      "A=  5\n",
      "B=  [10 20 30]\n",
      "\n",
      "After Addition = [15 25 35]\n",
      "After Subtraction = [ 5 15 25]\n",
      "After Multiplcation = [ 50 100 150]\n",
      "After Division = [2. 4. 6.]\n",
      "After Division = [1. 2. 3.]\n",
      "[0.5        0.25       0.16666667]\n",
      "after ^2 =  25\n"
     ]
    }
   ],
   "source": [
    "#Arithematic Operations\n",
    "a=np.array(5)\n",
    "print(\"A= \",a)\n",
    "b=np.array([10,20,30])\n",
    "print(\"B= \", b)\n",
    "\n",
    "#Addition\n",
    "addition= np.add(a,b)\n",
    "print(\"\\nAfter Addition =\", addition)\n",
    "\n",
    "#Subtraction\n",
    "sub=np.subtract(b,a)\n",
    "print(\"After Subtraction =\",sub)\n",
    "\n",
    "#Multiplication\n",
    "mul=np.multiply (a,b)\n",
    "print(\"After Multiplcation =\",mul)\n",
    "\n",
    "#Division\n",
    "div=np.divide (b,a)\n",
    "print(\"After Division =\",div)\n",
    "\n",
    "div1=np.divide (b,10)\n",
    "print(\"After Division =\",div1)\n",
    "\n",
    "#Reciprocal\n",
    "rec=np.reciprocal(div) \n",
    "print(rec)\n",
    "\n",
    "#Power\n",
    "pow=np.power(a,2)\n",
    "print(\"after ^2 = \", pow)"
   ]
  },
  {
   "cell_type": "code",
   "execution_count": null,
   "metadata": {
    "colab": {
     "base_uri": "https://localhost:8080/"
    },
    "id": "ZNuj48i52p8V",
    "outputId": "3081108e-d2b3-4650-e994-36a5f139a90d"
   },
   "outputs": [
    {
     "name": "stdout",
     "output_type": "stream",
     "text": [
      "values of A = [10 20 30]\n",
      "values of B = [3 5 7]\n",
      "\n",
      "values of MOD = [1 0 2]\n",
      "values of REMAINDER = [1 0 2]\n",
      "\n",
      " [-0.-5.6j  0.+0.2j 11.+0.j   1.+1.j ]\n",
      "\n",
      "real= [-0.  0. 11.  1.]\n",
      "imaginary= [-5.6  0.2  0.   1. ]\n",
      "Conjugate= [-0.+5.6j  0.-0.2j 11.-0.j   1.-1.j ]\n"
     ]
    }
   ],
   "source": [
    "#Mod and Remainder return the same result\n",
    "#In fact, mod is an alias for remainder\n",
    "a= np.array ([10,20,30])\n",
    "b= np.array ([3,5,7])\n",
    "\n",
    "print(\"values of A =\", a)\n",
    "print(\"values of B =\", b)\n",
    "\n",
    "m=np.mod(a,b)\n",
    "r=np.remainder(a,b)\n",
    "print(\"\\nvalues of MOD =\", m)\n",
    "print(\"values of REMAINDER =\", r)\n",
    "\n",
    "#Real and Imaginary numbers\n",
    "c=np.array([-5.6j, 0.2j,11, 1+1j])\n",
    "print(\"\\n\",c)\n",
    "\n",
    "#Returns only real part\n",
    "print(\"\\nreal=\",np.real(c))\n",
    "\n",
    "#Returns only imaginary part\n",
    "print(\"imaginary=\",np.imag(c))\n",
    "\n",
    "#Returns the conjugate\n",
    "print(\"Conjugate=\", np.conj(c))"
   ]
  },
  {
   "cell_type": "code",
   "execution_count": null,
   "metadata": {
    "colab": {
     "base_uri": "https://localhost:8080/"
    },
    "id": "si9MTbWH4O12",
    "outputId": "13cca47e-cecd-459e-f5ba-62f6e6a0a480"
   },
   "outputs": [
    {
     "name": "stdout",
     "output_type": "stream",
     "text": [
      "\n",
      " [  1.1   -5.32 123.    -0.56  25.5   32.  ]\n",
      "\n",
      "after rounding up\n",
      " [  1.  -5. 123.  -1.  26.  32.]\n",
      "\n",
      "after rounding up to 1st decimal value\n",
      " [  1.1  -5.3 123.   -0.6  25.5  32. ]\n",
      "\n",
      "Floor round off\n",
      "[  1.  -6. 123.  -1.  25.  32.]\n",
      "\n",
      "Ceiling round off\n",
      "[  2.  -5. 123.  -0.  26.  32.]\n"
     ]
    }
   ],
   "source": [
    "#Rounding off values\n",
    "d=np.array ([1.1,-5.32,123,-0.56,25.5,32])\n",
    "print(\"\\n\",d)\n",
    "print(\"\\nafter rounding up\\n\", np.around(d))\n",
    "print(\"\\nafter rounding up to 1st decimal value\\n\", np.around(d,decimals=1))\n",
    "\n",
    "#Floor round off\n",
    "print(\"\\nFloor round off\")\n",
    "print(np.floor(d))\n",
    "\n",
    "#Ceiling round off\n",
    "print(\"\\nCeiling round off\")\n",
    "print(np.ceil(d))"
   ]
  }
 ],
 "metadata": {
  "colab": {
   "collapsed_sections": [],
   "name": "DAP NumPy.ipynb",
   "provenance": []
  },
  "kernelspec": {
   "display_name": "Python 3",
   "language": "python",
   "name": "python3"
  },
  "language_info": {
   "codemirror_mode": {
    "name": "ipython",
    "version": 3
   },
   "file_extension": ".py",
   "mimetype": "text/x-python",
   "name": "python",
   "nbconvert_exporter": "python",
   "pygments_lexer": "ipython3",
   "version": "3.8.8"
  }
 },
 "nbformat": 4,
 "nbformat_minor": 1
}
