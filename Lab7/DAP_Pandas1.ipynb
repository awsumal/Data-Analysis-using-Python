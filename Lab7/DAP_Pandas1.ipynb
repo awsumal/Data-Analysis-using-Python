{
  "nbformat": 4,
  "nbformat_minor": 0,
  "metadata": {
    "colab": {
      "name": "DAP Pandas1.ipynb",
      "provenance": []
    },
    "kernelspec": {
      "name": "python3",
      "display_name": "Python 3"
    },
    "language_info": {
      "name": "python"
    }
  },
  "cells": [
    {
      "cell_type": "code",
      "metadata": {
        "id": "XY4cSOSG9an5"
      },
      "source": [
        "import pandas as pd\n",
        "import numpy as np"
      ],
      "execution_count": null,
      "outputs": []
    },
    {
      "cell_type": "markdown",
      "metadata": {
        "id": "finzD9lODnlL"
      },
      "source": [
        "Series"
      ]
    },
    {
      "cell_type": "code",
      "metadata": {
        "colab": {
          "base_uri": "https://localhost:8080/"
        },
        "id": "7FJ5yrr7LXhM",
        "outputId": "68abe39c-fd88-4fe4-8847-eb8ffc523fdd"
      },
      "source": [
        "#Creating a Series from ndarray\n",
        "data = np.array(['a','b','c','d'])\n",
        "s = pd.Series(data,index=[11,12,13,14])\n",
        "print(s,\"\\n\")\n",
        "\n",
        "#Creating a Series from Dictionary\n",
        "data = {'a' : 0.23, 'b' : 1.65, 'c' : 2.38}\n",
        "s = pd.Series(data)\n",
        "print(s,\"\\n\")\n",
        "\n",
        "#Creating a Series from Scalar\n",
        "s = pd.Series(5, index=[0, 1, 2, 3]) #Must give index\n",
        "print(s)"
      ],
      "execution_count": null,
      "outputs": [
        {
          "output_type": "stream",
          "name": "stdout",
          "text": [
            "11    a\n",
            "12    b\n",
            "13    c\n",
            "14    d\n",
            "dtype: object \n",
            "\n",
            "a    0.23\n",
            "b    1.65\n",
            "c    2.38\n",
            "dtype: float64 \n",
            "\n",
            "0    5\n",
            "1    5\n",
            "2    5\n",
            "3    5\n",
            "dtype: int64\n"
          ]
        }
      ]
    },
    {
      "cell_type": "code",
      "metadata": {
        "colab": {
          "base_uri": "https://localhost:8080/"
        },
        "id": "lD5rCzu7NIX-",
        "outputId": "210c5f2c-b250-4a6d-c2f2-055394f044ac"
      },
      "source": [
        "#Accessing data elements of a Series\n",
        "s = pd.Series([1,2,3,4,5],index = ['a','b','c','d','e'])\n",
        "\n",
        "#Accessing Data from Series with Position\n",
        "print(s[0],\"\\n\") #retrieves the first element\n",
        "print(s[:3],\"\\n\") #retrieves the first three elements\n",
        "print(s[-3:],\"\\n\") #retrieves the last three elements\n",
        "\n",
        "#Accessing Data Using Label (Index)\n",
        "print(s['a'],\"\\n\") #retrieves a single element\n",
        "print(s[['a','c','d']]) #retrieves multiple elements"
      ],
      "execution_count": null,
      "outputs": [
        {
          "output_type": "stream",
          "name": "stdout",
          "text": [
            "1 \n",
            "\n",
            "a    1\n",
            "b    2\n",
            "c    3\n",
            "dtype: int64 \n",
            "\n",
            "c    3\n",
            "d    4\n",
            "e    5\n",
            "dtype: int64 \n",
            "\n",
            "1 \n",
            "\n",
            "a    1\n",
            "c    3\n",
            "d    4\n",
            "dtype: int64\n"
          ]
        }
      ]
    },
    {
      "cell_type": "code",
      "metadata": {
        "colab": {
          "base_uri": "https://localhost:8080/"
        },
        "id": "y9BPbUna9qqA",
        "outputId": "662767fc-d7ee-400d-8a86-69c43ec1adec"
      },
      "source": [
        "#Creating and printing a series with 5 random numbers\n",
        "s = pd.Series(np.random.randn(5))\n",
        "print(s)\n",
        "\n",
        "#Printing the axes details\n",
        "print(\"\\nThe axes are:\",s.axes)\n",
        "\n",
        "#Checking whether object is empty\n",
        "print(\"\\nIs the Object empty?\",s.empty)\n",
        "\n",
        "#Checking the dimensions of the object\n",
        "print(\"\\nThe dimensions of the object:\",s.ndim)\n",
        "\n",
        "#Checking the size of the object\n",
        "print(\"The size of the object:\",s.size)\n",
        "\n",
        "#Checking the values of the object\n",
        "print(\"\\nThe actual data series is:\",s.values)"
      ],
      "execution_count": null,
      "outputs": [
        {
          "output_type": "stream",
          "name": "stdout",
          "text": [
            "0   -0.624724\n",
            "1    1.263379\n",
            "2    0.654671\n",
            "3   -0.100109\n",
            "4    0.317713\n",
            "dtype: float64\n",
            "\n",
            "The axes are: [RangeIndex(start=0, stop=5, step=1)]\n",
            "\n",
            "Is the Object empty? False\n",
            "\n",
            "The dimensions of the object: 1\n",
            "The size of the object: 5\n",
            "\n",
            "The actual data series is: [-0.62472354  1.26337853  0.65467131 -0.10010938  0.31771301]\n"
          ]
        }
      ]
    },
    {
      "cell_type": "code",
      "metadata": {
        "colab": {
          "base_uri": "https://localhost:8080/"
        },
        "id": "XeX5-F0C-yKp",
        "outputId": "f2cf9bbc-9e27-4249-952f-f2487d8298b4"
      },
      "source": [
        "#head() - Returns first n rows\n",
        "print(\"The first two rows of the data series:\")\n",
        "print(s.head(2))\n",
        "\n",
        "#tail() - Returns last n rows\n",
        "print(\"\\nThe last two rows of the data series:\")\n",
        "print(s.tail(2))"
      ],
      "execution_count": null,
      "outputs": [
        {
          "output_type": "stream",
          "name": "stdout",
          "text": [
            "The first two rows of the data series:\n",
            "0   -0.624724\n",
            "1    1.263379\n",
            "dtype: float64\n",
            "\n",
            "The last two rows of the data series:\n",
            "3   -0.100109\n",
            "4    0.317713\n",
            "dtype: float64\n"
          ]
        }
      ]
    },
    {
      "cell_type": "markdown",
      "metadata": {
        "id": "CaVt-CSqDqlM"
      },
      "source": [
        "DataFrames"
      ]
    },
    {
      "cell_type": "code",
      "metadata": {
        "colab": {
          "base_uri": "https://localhost:8080/"
        },
        "id": "QQyxW0tTDXkv",
        "outputId": "c14a17e9-0d84-4be2-e9b8-1ecd56732097"
      },
      "source": [
        "#Creating a DataFrame from 1D List\n",
        "data = [1,2,3,4,5]\n",
        "df = pd.DataFrame(data)\n",
        "print(df,\"\\n\")\n",
        "\n",
        "#Creating a DataFrame from 2D List\n",
        "data = [['Alex',10],['Bob',12],['Clarke',13]]\n",
        "df = pd.DataFrame(data,columns=['Name','Age'])\n",
        "print(df,\"\\n\")\n",
        "\n",
        "#Creating a DataFrame from Dict of ndarrays / Lists\n",
        "data = {'Name':['Tom', 'Jack', 'Steve', 'Ricky'],'Age':[28,34,29,42]}\n",
        "df = pd.DataFrame(data, index=['rank1','rank2','rank3','rank4'])\n",
        "print(df,\"\\n\")\n",
        "\n",
        "#Creating a DataFrame from List of Dicts\n",
        "data = [{'a': 1, 'b': 2},{'a': 5, 'b': 10, 'c': 20}]\n",
        "df = pd.DataFrame(data)\n",
        "print(df)"
      ],
      "execution_count": null,
      "outputs": [
        {
          "output_type": "stream",
          "name": "stdout",
          "text": [
            "   0\n",
            "0  1\n",
            "1  2\n",
            "2  3\n",
            "3  4\n",
            "4  5 \n",
            "\n",
            "     Name  Age\n",
            "0    Alex   10\n",
            "1     Bob   12\n",
            "2  Clarke   13 \n",
            "\n",
            "        Name  Age\n",
            "rank1    Tom   28\n",
            "rank2   Jack   34\n",
            "rank3  Steve   29\n",
            "rank4  Ricky   42 \n",
            "\n",
            "   a   b     c\n",
            "0  1   2   NaN\n",
            "1  5  10  20.0\n"
          ]
        }
      ]
    },
    {
      "cell_type": "code",
      "metadata": {
        "colab": {
          "base_uri": "https://localhost:8080/"
        },
        "id": "4uAL_FjZExGn",
        "outputId": "ce3d272c-eea7-4852-c286-b7385cc2eaa5"
      },
      "source": [
        "#DataFrame with a list of dictionaries, row indices, and column indices\n",
        "\n",
        "#With two column indices, values same as dictionary keys\n",
        "df1 = pd.DataFrame(data, index=['first', 'second'], columns=['a', 'b'])\n",
        "\n",
        "#With two column indices with one index with other name\n",
        "df2 = pd.DataFrame(data, index=['first', 'second'], columns=['a', 'b1'])\n",
        "print(df1,\"\\n\")\n",
        "print(df2,\"\\n\")\n",
        "\n",
        "#Create a DataFrame from Dictionary of Series with index\n",
        "\n",
        "#Create a Dictionary of Series with index\n",
        "d = {\n",
        "  'one' : pd.Series([1, 2, 3], index=['a', 'b', 'c']),\n",
        "  'two' : pd.Series([1, 2, 3, 4], index=['a', 'b', 'c', 'd'])\n",
        "  }\n",
        "\n",
        "#Create a DataFrame\n",
        "df = pd.DataFrame(d)\n",
        "print(df)"
      ],
      "execution_count": null,
      "outputs": [
        {
          "output_type": "stream",
          "name": "stdout",
          "text": [
            "        a   b\n",
            "first   1   2\n",
            "second  5  10 \n",
            "\n",
            "        a  b1\n",
            "first   1 NaN\n",
            "second  5 NaN \n",
            "\n",
            "   one  two\n",
            "a  1.0    1\n",
            "b  2.0    2\n",
            "c  3.0    3\n",
            "d  NaN    4\n"
          ]
        }
      ]
    },
    {
      "cell_type": "code",
      "metadata": {
        "colab": {
          "base_uri": "https://localhost:8080/"
        },
        "id": "aVD3Ut5MIK_C",
        "outputId": "44a42849-3ba2-4e97-ec91-41faf6a43be5"
      },
      "source": [
        "#Column selection\n",
        "\n",
        "print(df['two'],\"\\n\")\n",
        "\n",
        "#presence of NAN will convert int to float\n",
        "print(df['one'],\"\\n\")\n",
        "\n",
        "#Selection by Label\n",
        "print(df.loc['b'],\"\\n\")\n",
        "\n",
        "#Selection by integer location\n",
        "print(df.iloc[2],\"\\n\")\n",
        "\n",
        "#Slice Rows using : operator\n",
        "print(df[2:4])"
      ],
      "execution_count": null,
      "outputs": [
        {
          "output_type": "stream",
          "name": "stdout",
          "text": [
            "a    1\n",
            "b    2\n",
            "c    3\n",
            "d    4\n",
            "Name: two, dtype: int64 \n",
            "\n",
            "a    1.0\n",
            "b    2.0\n",
            "c    3.0\n",
            "d    NaN\n",
            "Name: one, dtype: float64 \n",
            "\n",
            "one    2.0\n",
            "two    2.0\n",
            "Name: b, dtype: float64 \n",
            "\n",
            "one    3.0\n",
            "two    3.0\n",
            "Name: c, dtype: float64 \n",
            "\n",
            "   one  two\n",
            "c  3.0    3\n",
            "d  NaN    4\n"
          ]
        }
      ]
    },
    {
      "cell_type": "code",
      "metadata": {
        "colab": {
          "base_uri": "https://localhost:8080/"
        },
        "id": "DCxXPs95JWQE",
        "outputId": "162c3d28-46e9-4b56-be34-87b1e5286ac8"
      },
      "source": [
        "#Column Addition\n",
        "\n",
        "#Adding a new column to an existing DataFrame object with column label by passing new series\n",
        "print(\"Adding a new column by passing as Series:\")\n",
        "df['three']=pd.Series([10,20,30],index=['a','b','c'])\n",
        "print(df,\"\\n\")\n",
        "\n",
        "print(\"Adding a new column using the existing columns in DataFrame:\")\n",
        "df['four']=df['two']+df['three']\n",
        "print(df)"
      ],
      "execution_count": null,
      "outputs": [
        {
          "output_type": "stream",
          "name": "stdout",
          "text": [
            "Adding a new column by passing as Series:\n",
            "   one  two  three\n",
            "a  1.0    1   10.0\n",
            "b  2.0    2   20.0\n",
            "c  3.0    3   30.0\n",
            "d  NaN    4    NaN \n",
            "\n",
            "Adding a new column using the existing columns in DataFrame:\n",
            "   one  two  three  four\n",
            "a  1.0    1   10.0  11.0\n",
            "b  2.0    2   20.0  22.0\n",
            "c  3.0    3   30.0  33.0\n",
            "d  NaN    4    NaN   NaN\n"
          ]
        }
      ]
    },
    {
      "cell_type": "code",
      "metadata": {
        "colab": {
          "base_uri": "https://localhost:8080/"
        },
        "id": "QP0-H3TuIXHX",
        "outputId": "c7bd7c67-94c3-4e47-d261-b86e1ccdd035"
      },
      "source": [
        "#Column Deletion\n",
        "\n",
        "#Using del function\n",
        "print(\"Deleting the first column using DEL function:\")\n",
        "del df['one']\n",
        "print(df)\n",
        "\n",
        "#Using pop function\n",
        "print(\"\\nDeleting another column using POP function:\")\n",
        "df.pop('three')\n",
        "print(df)"
      ],
      "execution_count": null,
      "outputs": [
        {
          "output_type": "stream",
          "name": "stdout",
          "text": [
            "Deleting the first column using DEL function:\n",
            "   two  three  four\n",
            "a    1   10.0  11.0\n",
            "b    2   20.0  22.0\n",
            "c    3   30.0  33.0\n",
            "d    4    NaN   NaN\n",
            "\n",
            "Deleting another column using POP function:\n",
            "   two  four\n",
            "a    1  11.0\n",
            "b    2  22.0\n",
            "c    3  33.0\n",
            "d    4   NaN\n"
          ]
        }
      ]
    },
    {
      "cell_type": "code",
      "metadata": {
        "colab": {
          "base_uri": "https://localhost:8080/"
        },
        "id": "jLUwnoyFJiLP",
        "outputId": "de7c3e3b-9977-48a8-c5b4-619ec291b656"
      },
      "source": [
        "#Row Addition and Deletion\n",
        "\n",
        "#Addition of Rows using append\n",
        "df = pd.DataFrame([[1, 2], [3, 4]], columns = ['a','b'])\n",
        "df2 = pd.DataFrame([[5, 6], [7, 8]], columns = ['a','b'])\n",
        "print(df)\n",
        "print(\"after appending\")\n",
        "df = df.append(df2)\n",
        "print(df)\n",
        "\n",
        "#Deletion of Rows using drop\n",
        "# Drop rows with label 0\n",
        "df = df.drop(0)\n",
        "print(df)"
      ],
      "execution_count": null,
      "outputs": [
        {
          "output_type": "stream",
          "name": "stdout",
          "text": [
            "   a  b\n",
            "0  1  2\n",
            "1  3  4\n",
            "after appending\n",
            "   a  b\n",
            "0  1  2\n",
            "1  3  4\n",
            "0  5  6\n",
            "1  7  8\n",
            "   a  b\n",
            "1  3  4\n",
            "1  7  8\n"
          ]
        }
      ]
    },
    {
      "cell_type": "code",
      "metadata": {
        "colab": {
          "base_uri": "https://localhost:8080/"
        },
        "id": "3ptqhd6o_95D",
        "outputId": "e9d60706-00f8-43f6-ca60-a08a49606856"
      },
      "source": [
        "#Creating a DataFrame from a Dictionary of Series\n",
        "\n",
        "#Create a Dictionary of series\n",
        "d = {\n",
        "  'Name':pd.Series(['Tom','James','Ricky','Vin','Steve','Smith','Jack']),\n",
        "  'Age':pd.Series([25,26,25,23,30,29,23]),\n",
        "  'Rating':pd.Series([4.23,3.24,3.98,2.56,3.20,4.6,3.8])\n",
        "  }\n",
        "\n",
        "#Create a DataFrame\n",
        "df = pd.DataFrame(d)\n",
        "print(\"Our data series is:\\n\")\n",
        "print(df)"
      ],
      "execution_count": null,
      "outputs": [
        {
          "output_type": "stream",
          "name": "stdout",
          "text": [
            "Our data series is:\n",
            "\n",
            "    Name  Age  Rating\n",
            "0    Tom   25    4.23\n",
            "1  James   26    3.24\n",
            "2  Ricky   25    3.98\n",
            "3    Vin   23    2.56\n",
            "4  Steve   30    3.20\n",
            "5  Smith   29    4.60\n",
            "6   Jack   23    3.80\n"
          ]
        }
      ]
    },
    {
      "cell_type": "code",
      "metadata": {
        "colab": {
          "base_uri": "https://localhost:8080/"
        },
        "id": "MXobvmqXBA3t",
        "outputId": "ec1193d1-3293-465d-ccbb-91289d8e12f0"
      },
      "source": [
        "#All Series operations can be performed on DataFrame too\n",
        "\n",
        "#Transposing the DataFrame\n",
        "print(\"The transpose of the data series is:\")\n",
        "print(df.T)\n",
        "\n",
        "#Checking the datatypes of each column\n",
        "print(\"\\nThe data types of each column are:\")\n",
        "print(df.dtypes)\n",
        "\n",
        "#Checking the shape of the object\n",
        "print(\"\\nThe shape of the object is:\")\n",
        "print(df.shape)\n",
        "\n",
        "#Checking total no. of elements/size\n",
        "print(\"\\nThe total number of elements in our object is:\")\n",
        "print(df.size)"
      ],
      "execution_count": null,
      "outputs": [
        {
          "output_type": "stream",
          "name": "stdout",
          "text": [
            "The transpose of the data series is:\n",
            "           0      1      2     3      4      5     6\n",
            "Name     Tom  James  Ricky   Vin  Steve  Smith  Jack\n",
            "Age       25     26     25    23     30     29    23\n",
            "Rating  4.23   3.24   3.98  2.56    3.2    4.6   3.8\n",
            "\n",
            "The data types of each column are:\n",
            "Name       object\n",
            "Age         int64\n",
            "Rating    float64\n",
            "dtype: object\n",
            "\n",
            "The shape of the object is:\n",
            "(7, 3)\n",
            "\n",
            "The total number of elements in our object is:\n",
            "21\n"
          ]
        }
      ]
    },
    {
      "cell_type": "markdown",
      "metadata": {
        "id": "gAkihPkpPb54"
      },
      "source": [
        "Panel (PANel DAtaS : PANDAS)"
      ]
    },
    {
      "cell_type": "code",
      "metadata": {
        "colab": {
          "base_uri": "https://localhost:8080/",
          "height": 301
        },
        "id": "vWvmsUcQPbdl",
        "outputId": "dfbb5a79-8881-4c04-d6c3-090154aaa419"
      },
      "source": [
        "#Panel Creation\n",
        "\n",
        "#From 3D ndarray\n",
        "data = np.random.rand(2,4,5)\n",
        "p = pd.Panel(data)\n",
        "print(p,\"\\n\")\n",
        "\n",
        "#From Dictionary of DataFrame Objects\n",
        "data = {\n",
        "  'Item1' : pd.DataFrame(np.random.randn(4, 3)), \n",
        "  'Item2' : pd.DataFrame(np.random.randn(4, 2))\n",
        "  }\n",
        "p = pd.Panel(data)\n",
        "print(p,\"\\n\")"
      ],
      "execution_count": null,
      "outputs": [
        {
          "output_type": "stream",
          "name": "stderr",
          "text": [
            "/usr/local/lib/python3.7/dist-packages/ipykernel_launcher.py:5: FutureWarning: The Panel class is removed from pandas. Accessing it from the top-level namespace will also be removed in the next version\n",
            "  \"\"\"\n"
          ]
        },
        {
          "output_type": "error",
          "ename": "TypeError",
          "evalue": "ignored",
          "traceback": [
            "\u001b[0;31m---------------------------------------------------------------------------\u001b[0m",
            "\u001b[0;31mTypeError\u001b[0m                                 Traceback (most recent call last)",
            "\u001b[0;32m<ipython-input-81-28182d88485e>\u001b[0m in \u001b[0;36m<module>\u001b[0;34m()\u001b[0m\n\u001b[1;32m      3\u001b[0m \u001b[0;31m#From 3D ndarray\u001b[0m\u001b[0;34m\u001b[0m\u001b[0;34m\u001b[0m\u001b[0;34m\u001b[0m\u001b[0m\n\u001b[1;32m      4\u001b[0m \u001b[0mdata\u001b[0m \u001b[0;34m=\u001b[0m \u001b[0mnp\u001b[0m\u001b[0;34m.\u001b[0m\u001b[0mrandom\u001b[0m\u001b[0;34m.\u001b[0m\u001b[0mrand\u001b[0m\u001b[0;34m(\u001b[0m\u001b[0;36m2\u001b[0m\u001b[0;34m,\u001b[0m\u001b[0;36m4\u001b[0m\u001b[0;34m,\u001b[0m\u001b[0;36m5\u001b[0m\u001b[0;34m)\u001b[0m\u001b[0;34m\u001b[0m\u001b[0;34m\u001b[0m\u001b[0m\n\u001b[0;32m----> 5\u001b[0;31m \u001b[0mp\u001b[0m \u001b[0;34m=\u001b[0m \u001b[0mpd\u001b[0m\u001b[0;34m.\u001b[0m\u001b[0mPanel\u001b[0m\u001b[0;34m(\u001b[0m\u001b[0mdata\u001b[0m\u001b[0;34m)\u001b[0m\u001b[0;34m\u001b[0m\u001b[0;34m\u001b[0m\u001b[0m\n\u001b[0m\u001b[1;32m      6\u001b[0m \u001b[0mprint\u001b[0m\u001b[0;34m(\u001b[0m\u001b[0mp\u001b[0m\u001b[0;34m,\u001b[0m\u001b[0;34m\"\\n\"\u001b[0m\u001b[0;34m)\u001b[0m\u001b[0;34m\u001b[0m\u001b[0;34m\u001b[0m\u001b[0m\n\u001b[1;32m      7\u001b[0m \u001b[0;34m\u001b[0m\u001b[0m\n",
            "\u001b[0;31mTypeError\u001b[0m: Panel() takes no arguments"
          ]
        }
      ]
    }
  ]
}