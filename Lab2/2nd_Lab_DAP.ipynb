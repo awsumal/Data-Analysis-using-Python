{
 "cells": [
  {
   "cell_type": "markdown",
   "metadata": {
    "id": "Lr-LrdUGoJGu"
   },
   "source": [
    "String Operations in Python"
   ]
  },
  {
   "cell_type": "code",
   "execution_count": null,
   "metadata": {
    "colab": {
     "base_uri": "https://localhost:8080/"
    },
    "id": "2g8ZlJd0mEeh",
    "outputId": "58bdf166-fb9b-43c1-b426-f7d81f30e254"
   },
   "outputs": [
    {
     "name": "stdout",
     "output_type": "stream",
     "text": [
      "Hello World!   Python Programming\n",
      "H\n",
      "ytho\n",
      "Updated String :-  Hello Ali\n"
     ]
    }
   ],
   "source": [
    "#To print “hello world”, string concatenation, and access strings using index\n",
    "var1 = 'Hello World!'\n",
    "var2 = \"Python Programming\"\n",
    "\n",
    "#Printing String\n",
    "print(var1,\" \",var2)\n",
    "\n",
    "#Accessing string using index\n",
    "print (var1[0])\n",
    "print (var2[1:5])\n",
    "\n",
    "#String Concatenation\n",
    "print (\"Updated String :- \", var1[0:6] + 'Ali')"
   ]
  },
  {
   "cell_type": "code",
   "execution_count": null,
   "metadata": {
    "colab": {
     "base_uri": "https://localhost:8080/"
    },
    "id": "hf0TPXsrq2bO",
    "outputId": "a6d6d06b-4bda-4bcf-c095-dcbe78cda8b0"
   },
   "outputs": [
    {
     "name": "stdout",
     "output_type": "stream",
     "text": [
      "Please Enter Your Own String : Ali\n",
      "Ali\n"
     ]
    }
   ],
   "source": [
    "#To take user input of string and print it\n",
    "str1 = input(\"Please Enter Your Own String : \")\n",
    "\n",
    "#Printing user input\n",
    "print(str1)"
   ]
  },
  {
   "cell_type": "code",
   "execution_count": null,
   "metadata": {
    "colab": {
     "base_uri": "https://localhost:8080/"
    },
    "id": "V8np36s_rOoi",
    "outputId": "89a235c6-bdcc-4a88-c40e-1c759991ed76"
   },
   "outputs": [
    {
     "name": "stdout",
     "output_type": "stream",
     "text": [
      "str2.capitalize() :  This is string example....wow!!!\n",
      "str2.center(40, 'a') :  ****this is string example....wow!!!****\n",
      "str2.count(sub, 4, 40) :  2\n",
      "2\n"
     ]
    }
   ],
   "source": [
    "#String operations using functions such as capitalize(), center(), count(), find()\n",
    "str2 = \"this is string example....wow!!!\"\n",
    "\n",
    "#capitalize() method returns a copy of the string with only its first character capitalized.\n",
    "print (\"str2.capitalize() : \", str2.capitalize())\n",
    "\n",
    "#center() returns centered in a string of length width. Padding is done using the specified fillchar.\n",
    "#Default filler is a space.\n",
    "print (\"str2.center(40, 'a') : \", str2.center(40, '*'))\n",
    "\n",
    "#count() returns the number of occurrences of substring sub in the range [start, end].\n",
    "sub = \"i\";\n",
    "print (\"str2.count(sub, 4, 40) : \", str2.count(sub, 4, 40))\n",
    "\n",
    "#find() determines if string str occurs in string, or in a substring of string if starting \n",
    "#index beg and ending index end are given.\n",
    "str3 = \"is\";\n",
    "print (str2.find(str3))"
   ]
  },
  {
   "cell_type": "code",
   "execution_count": null,
   "metadata": {
    "colab": {
     "base_uri": "https://localhost:8080/"
    },
    "id": "6YyJBYI9t8Ss",
    "outputId": "db34c23d-0ce2-403d-f791-5ba3c23d568f"
   },
   "outputs": [
    {
     "name": "stdout",
     "output_type": "stream",
     "text": [
      "15\n",
      "True\n",
      "True\n",
      "True\n",
      "True\n",
      "True\n",
      "True\n",
      "True\n",
      "True\n",
      "abc  *  *  bttt  *  *  cqweqe\n",
      "Length of the string:  32\n"
     ]
    }
   ],
   "source": [
    "#More functions such as index(), isalnum(), isdigit(), isalpha(), islower(), isnumeric()\n",
    "#isspace(), istitle(), isupper(), join(), len()\n",
    "\n",
    "#index() determines if string str occurs in string or in a substring of string if starting\n",
    "#index beg and ending index end are given.\n",
    "str1 = \"this is string example....wow!!!\"\n",
    "str2 = \"exam\"\n",
    "print (str1.index(str2, 10,32))\n",
    "\n",
    "#isalnum() checks whether the string consists of alphanumeric characters.\n",
    "str = \"this2009\";  # No space in this string\n",
    "print (str.isalnum())\n",
    "\n",
    "#isalpha() checks whether the string consists of only alphabets.\n",
    "str = \"ShabnamSharma\";  # No space & digit in this string\n",
    "print (str.isalpha())\n",
    "\n",
    "#isdigit() checks whether the string consists of only digits.\n",
    "str = \"123456\";  # Only digit in this string\n",
    "print (str.isdigit())\n",
    "\n",
    "#islower() returns true if all characters are lowercase, else returns false\n",
    "str = \"this is string example....wow!!!\";\n",
    "print (str.islower())\n",
    "\n",
    "#isnumeric() returns true if all characters are numbers, else returns false\n",
    "str = \"23443434\";\n",
    "print (str.isnumeric())\n",
    "\n",
    "#isspace() returns true if all characters are whitespaces, else returns false\n",
    "str = \"  \"; \n",
    "print (str.isspace())\n",
    "\n",
    "#istitle() returns true if all words start with uppercase character, else returns false\n",
    "str = \"This Is String Example...Wow!!!\";\n",
    "print (str.istitle())\n",
    "\n",
    "#isupper() returns true if all characters are uppercase, else returns false\n",
    "str = \"THIS IS STRING EXAMPLE....WOW!!!\"; \n",
    "print (str.isupper())\n",
    "\n",
    "#join() returns a string in which the string elements of sequence are joined by str separator.\n",
    "s = \"  *  *  \";\n",
    "seq = (\"abc\", \"bttt\", \"cqweqe\"); # This is sequence of strings.\n",
    "print (s.join(seq))\n",
    "\n",
    "#len() returns length of the given string\n",
    "str = \"this is string example....wow!!!\";\n",
    "print (\"Length of the string: \", len(str))"
   ]
  },
  {
   "cell_type": "code",
   "execution_count": null,
   "metadata": {
    "colab": {
     "base_uri": "https://localhost:8080/"
    },
    "id": "wUIDSGL2zM8B",
    "outputId": "d8cf77e5-84f6-4336-efd5-bb71d73399bc"
   },
   "outputs": [
    {
     "name": "stdout",
     "output_type": "stream",
     "text": [
      "this is string example....wow!!!     \n",
      "this is string example....wow!!!999999\n",
      "88888888this is string example....wow!!!\n",
      "this is string example....wow!!!\n",
      "THIS IS STRING EXAMPLE....WOW!!!\n",
      "Max character: w\n",
      "Min character: a\n",
      "thwas was string example....wow!!! thwas is really string\n",
      "THIS IS STRING EXAMPLE....WOW!!!\n",
      "True\n"
     ]
    }
   ],
   "source": [
    "#Even more functions such as lstrip(), lower(), upper(), max(), min(), replace(),\n",
    "#swapcase(), startswith()\n",
    "\n",
    "#lstrip() returns a copy of the string in which all chars have been stripped from \n",
    "#the beginning of the string (default whitespace characters)\n",
    "str = \"     this is string example....wow!!!     \"\n",
    "print (str.lstrip())\n",
    "str = \"88888888this is string example....wow!!!999999\";\n",
    "print (str.lstrip('8'))\n",
    "print (str.rstrip('9'))\n",
    "\n",
    "#lower() returns copt of string with all lowercase characters\n",
    "str = \"THIS IS STRING EXAMPLE....WOW!!!\"\n",
    "print (str.lower())\n",
    "\n",
    "#upper() returns copt of string with all uppercase characters\n",
    "str = \"this is string example....wow!!!\"\n",
    "print (str.upper())\n",
    "\n",
    "#max() returns largest character\n",
    "str = \"check....wow!!!\"\n",
    "print (\"Max character: \" + max(str))\n",
    "\n",
    "#min() returns smallest character\n",
    "str = \"example\"\n",
    "print (\"Min character: \" + min(str))\n",
    "\n",
    "#replace() finds and replaces a string with the given input\n",
    "#Syntax is str.replace(old, new[, max])\n",
    "str = \"this is string example....wow!!! this is really string\"\n",
    "print (str.replace(\"is\", \"was\", 3))\n",
    "\n",
    "#swapcase() swaps string from uppercase to lowercase and vice versa\n",
    "str = \"this is string example....wow!!!\";\n",
    "print (str.swapcase())\n",
    "\n",
    "#startswith() returns true if string starts with given input\n",
    "str = \"this is string example....wow!!!\";\n",
    "print (str.startswith( 'is', 2, 4 ))"
   ]
  },
  {
   "cell_type": "markdown",
   "metadata": {
    "id": "uk1yZWhY2Qw5"
   },
   "source": [
    "If-Else Operations in Python"
   ]
  },
  {
   "cell_type": "code",
   "execution_count": null,
   "metadata": {
    "colab": {
     "base_uri": "https://localhost:8080/"
    },
    "id": "mb0b6DLo3d06",
    "outputId": "4a5a16c8-a22d-4a60-fee1-207cee2239a7"
   },
   "outputs": [
    {
     "name": "stdout",
     "output_type": "stream",
     "text": [
      "Enter a number: 22\n",
      "Number is even\n"
     ]
    }
   ],
   "source": [
    "#Check whether number is odd or even\n",
    "num = int(input(\"Enter a number: \"))  \n",
    "if num%2 == 0:  \n",
    "  print(\"Number is even\")\n",
    "else:\n",
    "  print(\"Number is odd\")  "
   ]
  },
  {
   "cell_type": "code",
   "execution_count": null,
   "metadata": {
    "colab": {
     "base_uri": "https://localhost:8080/"
    },
    "id": "BZ8liLM14XGt",
    "outputId": "013ad21e-c13e-48cd-c277-1dd090029e91"
   },
   "outputs": [
    {
     "name": "stdout",
     "output_type": "stream",
     "text": [
      "Enter a: 20\n",
      "Enter b: 45\n",
      "Enter c: 2\n",
      "b is largest\n"
     ]
    }
   ],
   "source": [
    "#Program to find largest of 3 numbers\n",
    "a = int(input(\"Enter a: \"))\n",
    "b = int(input(\"Enter b: \"))\n",
    "c = int(input(\"Enter c: \"))\n",
    "if a>b and a>c:\n",
    "  print(\"a is largest\")\n",
    "elif b>c:\n",
    "  print(\"b is largest\")\n",
    "else:\n",
    "  print(\"c is largest\")"
   ]
  },
  {
   "cell_type": "code",
   "execution_count": null,
   "metadata": {
    "colab": {
     "base_uri": "https://localhost:8080/"
    },
    "id": "PI4t6OUaknsU",
    "outputId": "b2231fc3-29a6-4f2a-9127-9149f49224da"
   },
   "outputs": [
    {
     "name": "stdout",
     "output_type": "stream",
     "text": [
      "Enter your age? 32\n",
      "You are eligible to vote !!\n"
     ]
    }
   ],
   "source": [
    "#Program to check eligibility for voting\n",
    "age = int (input(\"Enter your age? \"))\n",
    "if age>=18:\n",
    "  print(\"You are eligible to vote !!\")\n",
    "else:\n",
    "  print(\"Sorry! you have to wait !!\")"
   ]
  },
  {
   "cell_type": "code",
   "execution_count": null,
   "metadata": {
    "colab": {
     "base_uri": "https://localhost:8080/"
    },
    "id": "XFfAAsYDlJNA",
    "outputId": "b698f947-85ec-4885-bb56-13ec7ea36906"
   },
   "outputs": [
    {
     "name": "stdout",
     "output_type": "stream",
     "text": [
      "Enter the marks? 22\n",
      "Sorry you have failed\n"
     ]
    }
   ],
   "source": [
    "#Program to find grade of the student\n",
    "marks = int(input(\"Enter the marks? \"))  \n",
    "if marks > 85 and marks <= 100:  \n",
    "   print(\"Congrats ! you scored grade A ...\")  \n",
    "elif marks > 60 and marks <= 85:  \n",
    "  print(\"You scored grade B + ...\")  \n",
    "elif marks > 40 and marks <= 60:  \n",
    "  print(\"You scored grade B ...\")  \n",
    "elif (marks > 30 and marks <= 40):  \n",
    "  print(\"You scored grade C ...\")  \n",
    "else:  \n",
    "  print(\"Sorry you have failed\")"
   ]
  },
  {
   "cell_type": "markdown",
   "metadata": {
    "id": "MtyHeGgQqBoV"
   },
   "source": [
    "Lists in Python"
   ]
  },
  {
   "cell_type": "code",
   "execution_count": null,
   "metadata": {
    "colab": {
     "base_uri": "https://localhost:8080/"
    },
    "id": "4v2RygT9qqxX",
    "outputId": "e542155e-6512-413f-a223-f623ef0af9ca"
   },
   "outputs": [
    {
     "name": "stdout",
     "output_type": "stream",
     "text": [
      "list1[0]:  physics\n",
      "list2[1:3]:  [2, 3]\n",
      "Value available at index 2 : \n",
      "1997\n",
      "New value available at index 2 : \n",
      "999999\n",
      "After deleting value at index 2 :\n",
      "['physics', 'chemistry', 2000]\n"
     ]
    }
   ],
   "source": [
    "#Printing lists using their index\n",
    "list1 = ['physics', 'chemistry', 1997, 2000]\n",
    "list2 = [1, 2, 3, 4, 5, 6, 7 ]\n",
    "print (\"list1[0]: \", list1[0])\n",
    "print (\"list2[1:3]: \", list2[1:3])\n",
    "\n",
    "#Updating a list value\n",
    "print (\"Value available at index 2 : \")\n",
    "print (list1[2])\n",
    "list1[2] = 999999;\n",
    "print (\"New value available at index 2 : \")\n",
    "print (list1[2])\n",
    "\n",
    "#Deleting a list value\n",
    "del(list1[2])\n",
    "print (\"After deleting value at index 2 :\")\n",
    "print (list1)"
   ]
  },
  {
   "cell_type": "code",
   "execution_count": null,
   "metadata": {
    "colab": {
     "base_uri": "https://localhost:8080/"
    },
    "id": "I801MPJzrJFb",
    "outputId": "043c3e9a-45ea-41f1-a916-4cc389c87b91"
   },
   "outputs": [
    {
     "name": "stdout",
     "output_type": "stream",
     "text": [
      "First list length :  3 \n",
      "Second list length : 7\n",
      "Updated List :  [1, 2, 3, 4, 5, 6, 7, 2009]\n",
      "Count for xyz :  2\n",
      "Extended List :  ['physics', 'chemistry', 2000, 1, 2, 3, 4, 5, 6, 7, 2009]\n",
      "Index for chemistry :  1\n"
     ]
    }
   ],
   "source": [
    "#To perform list operations using functions such as \n",
    "#len(), append(), count(), extend(), index()\n",
    "\n",
    "#len()\n",
    "print (\"First list length : \", len(list1),\"\\nSecond list length :\",len(list2))\n",
    "\n",
    "#append()\n",
    "list2.append(2009);\n",
    "print (\"Updated List : \", list2)\n",
    "\n",
    "#count\n",
    "aList = [123, 'xyz', 'xyz', 'abc', 123]\n",
    "print (\"Count for xyz : \", aList.count('xyz'))\n",
    "\n",
    "#extend()\n",
    "list1.extend(list2)\n",
    "print (\"Extended List : \", list1)\n",
    "\n",
    "#index()\n",
    "print (\"Index for chemistry : \", list1.index( 'chemistry' ) )"
   ]
  },
  {
   "cell_type": "code",
   "execution_count": null,
   "metadata": {
    "id": "U8GrFdRXs6tz"
   },
   "outputs": [],
   "source": [
    "#To perform list operations using functions such as \n",
    "#insert(), pop(), remove(), reverse(), sort()\n",
    "\n",
    "#insert()\n",
    "aList = [123, 'xyz', 'zara', 'abc']\n",
    "print(\"List before insertion : \",aList)\n",
    "aList.insert( 3, 2009)\n",
    "print (\"Final List : \", aList)\n",
    "\n",
    "#pop()\n",
    "aList.pop())\n",
    "print(\"List after popping last element : \",aList)\n",
    "aList.pop(2)\n",
    "print(\"List after popping element from mentioned index: \",aList)"
   ]
  }
 ],
 "metadata": {
  "colab": {
   "name": "2nd Lab DAP",
   "provenance": []
  },
  "kernelspec": {
   "display_name": "Python 3",
   "language": "python",
   "name": "python3"
  },
  "language_info": {
   "codemirror_mode": {
    "name": "ipython",
    "version": 3
   },
   "file_extension": ".py",
   "mimetype": "text/x-python",
   "name": "python",
   "nbconvert_exporter": "python",
   "pygments_lexer": "ipython3",
   "version": "3.8.8"
  }
 },
 "nbformat": 4,
 "nbformat_minor": 1
}
