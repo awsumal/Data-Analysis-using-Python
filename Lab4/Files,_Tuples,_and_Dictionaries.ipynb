{
  "nbformat": 4,
  "nbformat_minor": 0,
  "metadata": {
    "colab": {
      "name": "Files, Tuples, and Dictionaries.ipynb",
      "provenance": []
    },
    "kernelspec": {
      "name": "python3",
      "display_name": "Python 3"
    },
    "language_info": {
      "name": "python"
    }
  },
  "cells": [
    {
      "cell_type": "markdown",
      "metadata": {
        "id": "pvDQd5yvsvMw"
      },
      "source": [
        "Files in Python"
      ]
    },
    {
      "cell_type": "code",
      "metadata": {
        "colab": {
          "base_uri": "https://localhost:8080/"
        },
        "id": "c3jv5Qv5sXDA",
        "outputId": "0001ac77-3758-4a43-8455-58cec1567535"
      },
      "source": [
        "# Opening, closing, appending, reading, and \n",
        "#displaying the properties of a file\n",
        "\n",
        "# Open file in write mode\n",
        "fo = open(\"dap.txt\", \"w\")\n",
        "\n",
        "# Write to a file\n",
        "fo.write(\"ali\")\n",
        "\n",
        "# Close file\n",
        "fo.close()\n",
        "\n",
        "# Open file in append mode\n",
        "fo = open(\"dap.txt\", \"a\")\n",
        "fo.write(\"abbas\")\n",
        "fo.close()\n",
        "\n",
        "# Open and read the file after the appending:\n",
        "fo = open(\"dap.txt\", \"r\")\n",
        "print(fo.read())\n",
        "\n",
        "# Print properties of a file\n",
        "print (\"Name of the file: \", fo.name)\n",
        "print (\"Closed or not : \", fo.closed)\n",
        "print (\"Opening mode : \", fo.mode)\n",
        "\n",
        "fo.close()"
      ],
      "execution_count": 3,
      "outputs": [
        {
          "output_type": "stream",
          "name": "stdout",
          "text": [
            "aliabbas\n",
            "Name of the file:  dap.txt\n",
            "Closed or not :  False\n",
            "Opening mode :  r\n"
          ]
        }
      ]
    },
    {
      "cell_type": "code",
      "metadata": {
        "colab": {
          "base_uri": "https://localhost:8080/"
        },
        "id": "HecxV1l8uI_w",
        "outputId": "82423023-0cd0-44b1-ef1c-ea4aaa64e15a"
      },
      "source": [
        "# Checking current pointer position and\n",
        "# seeking to a new position\n",
        "\n",
        "fo = open(\"dap.txt\", \"r\")\n",
        "str = fo.read(4)\n",
        "print (\"Read String is : \", str)\n",
        "\n",
        "# Check current position\n",
        "position = fo.tell()\n",
        "print (\"Current file position : \", position)\n",
        "\n",
        "# Reposition pointer at the beginning once again\n",
        "position = fo.seek(1, 0);\n",
        "str = fo.read(3)\n",
        "print (\"Again read String is : \", str)\n",
        "\n",
        "fo.close()"
      ],
      "execution_count": 13,
      "outputs": [
        {
          "output_type": "stream",
          "name": "stdout",
          "text": [
            "Read String is :  alia\n",
            "Current file position :  4\n",
            "Again read String is :  lia\n"
          ]
        }
      ]
    },
    {
      "cell_type": "code",
      "metadata": {
        "colab": {
          "base_uri": "https://localhost:8080/"
        },
        "id": "K4YwMyMkwjAV",
        "outputId": "e17fd9b0-afff-4180-f592-22b0350f93e9"
      },
      "source": [
        "# os functions such as renaming, removng a file\n",
        "# creating, checking, changing, removing directories\n",
        "\n",
        "import os\n",
        "\n",
        "# Rename a file from dap.txt to test.txt\n",
        "os.rename(\"dap.txt\", \"test.txt\" )\n",
        "\n",
        "# Delete file test.txt\n",
        "os.remove(\"test.txt\")\n",
        "\n",
        "# This would give location of the current directory\n",
        "print(os.getcwd())\n",
        "\n",
        "# Create a directory \"test\"\n",
        "os.mkdir(\"test\")\n",
        "\n",
        "# Changing a directory to \"/home/newdir\"\n",
        "os.chdir(\"/content/test\")\n",
        "\n",
        "# This would  remove \"/tmp/test\"  directory.\n",
        "os.rmdir( \"/content/test\"  )"
      ],
      "execution_count": 22,
      "outputs": [
        {
          "output_type": "stream",
          "name": "stdout",
          "text": [
            "/content\n"
          ]
        }
      ]
    },
    {
      "cell_type": "markdown",
      "metadata": {
        "id": "OUbWnh3MyPFU"
      },
      "source": [
        "Tuples in Python"
      ]
    },
    {
      "cell_type": "code",
      "metadata": {
        "colab": {
          "base_uri": "https://localhost:8080/"
        },
        "id": "guU7eToOyTd1",
        "outputId": "cf1a8ff2-8631-4d10-87a2-addbb1cd5547"
      },
      "source": [
        "# Creating, printing, print with index\n",
        "# and deletion of tuples\n",
        "\n",
        "# Creation of tuple\n",
        "tup1= ('cse','it','mech','ece','electrical')\n",
        "tup2=(1,23,4,5,5,6)\n",
        "\n",
        "# Printing tuple\n",
        "print(tup1)\n",
        "print(tup2)\n",
        "\n",
        "# Printing with index\n",
        "print(tup1[0])\n",
        "print(tup1[2])\n",
        "print(tup1[2:5])\n",
        "\n",
        "# Deletion of tuple\n",
        "del(tup1)\n",
        "del(tup2)"
      ],
      "execution_count": 23,
      "outputs": [
        {
          "output_type": "stream",
          "name": "stdout",
          "text": [
            "('cse', 'it', 'mech', 'ece', 'electrical')\n",
            "(1, 23, 4, 5, 5, 6)\n",
            "cse\n",
            "mech\n",
            "('mech', 'ece', 'electrical')\n"
          ]
        }
      ]
    },
    {
      "cell_type": "code",
      "metadata": {
        "colab": {
          "base_uri": "https://localhost:8080/"
        },
        "id": "0QNwjJgSzyod",
        "outputId": "7ff38f3f-5b39-4525-d615-cb20d4a5cd81"
      },
      "source": [
        "# Concatenation, finding length, and max element\n",
        "\n",
        "tup1= ('cse','it','mech','ece','electrical')\n",
        "print(tup1)\n",
        "tup2= ('ali','roro','james')\n",
        "print(tup2)\n",
        "\n",
        "# Concatenation\n",
        "tup3=tup1+tup2\n",
        "print(tup3)\n",
        "\n",
        "# Finding length\n",
        "print(\"Length of first tuple is \",len(tup1))\n",
        "print(\"Length of second tuple is \",len(tup2))\n",
        "\n",
        "#Finding max element\n",
        "print(\"Max element in first tuple is\",max(tup1))"
      ],
      "execution_count": 25,
      "outputs": [
        {
          "output_type": "stream",
          "name": "stdout",
          "text": [
            "('cse', 'it', 'mech', 'ece', 'electrical')\n",
            "('ali', 'roro', 'james')\n",
            "('cse', 'it', 'mech', 'ece', 'electrical', 'ali', 'roro', 'james')\n",
            "Length of first tuple is  5\n",
            "Length of second tuple is  3\n",
            "Max element in first tuple is mech\n"
          ]
        }
      ]
    },
    {
      "cell_type": "markdown",
      "metadata": {
        "id": "pBTfL0WB0mH3"
      },
      "source": [
        "Dictionaries in Python"
      ]
    },
    {
      "cell_type": "code",
      "metadata": {
        "colab": {
          "base_uri": "https://localhost:8080/"
        },
        "id": "Xup8HC110p-V",
        "outputId": "af2749b5-d77f-4220-9950-a15b2b849d01"
      },
      "source": [
        "# Creating, printing, updation, appending\n",
        "# Deleting a key, clearing/deleting the dictionary\n",
        "\n",
        "# Creation of a dictionary\n",
        "dict={'name':'ali','designation':'student','qual':'2nd PU','univ':'cmr'}\n",
        "\n",
        "# Printing of dictionary elements\n",
        "print(dict['name'])\n",
        "print(dict['qual'])\n",
        "print(dict)\n",
        "\n",
        "# Updating a value\n",
        "dict['name']='abbas'\n",
        "print(\"After updating name-\",dict['name'])\n",
        "\n",
        "# Appending a value\n",
        "dict['class']='cse7sem'\n",
        "print(\"After appending class-\",dict['class'])\n",
        "\n",
        "# Deleting a key\n",
        "del dict['designation']\n",
        "print(\"After removing designation-\",dict)\n",
        "\n",
        "# Clearing the dictionary\n",
        "dict.clear()\n",
        "print(\"After clearing dictionary-\",dict)\n",
        "\n",
        "# Deleting the dictionary\n",
        "del dict"
      ],
      "execution_count": 31,
      "outputs": [
        {
          "output_type": "stream",
          "name": "stdout",
          "text": [
            "ali\n",
            "2nd PU\n",
            "{'name': 'ali', 'designation': 'student', 'qual': '2nd PU', 'univ': 'cmr'}\n",
            "After updating name- abbas\n",
            "After appending class- cse7sem\n",
            "After removing designation- {'name': 'abbas', 'qual': '2nd PU', 'univ': 'cmr', 'class': 'cse7sem'}\n",
            "After clearing dictionary- {}\n"
          ]
        }
      ]
    },
    {
      "cell_type": "code",
      "metadata": {
        "colab": {
          "base_uri": "https://localhost:8080/"
        },
        "id": "O69BeUOg3c0F",
        "outputId": "8b48d1d6-b0a9-4d0c-e965-4f4badae7f38"
      },
      "source": [
        "# Printing properties of dictionaries\n",
        "\n",
        "dict={'name':'ali','designation':'student','qual':'2nd PU','univ':'cmr', 'name':'abbas'}\n",
        "\n",
        "# In case same key is given 2 values, latest will be considered\n",
        "print(dict['name'])\n",
        "\n",
        "# Length of dictionary\n",
        "print(len(dict))\n",
        "\n",
        "# Returns only the values\n",
        "print(dict.values())\n",
        "\n",
        "# Returns only the keys\n",
        "print(dict.keys())\n",
        "\n",
        "# Returns respective key-value pairs\n",
        "print(dict.items())"
      ],
      "execution_count": 33,
      "outputs": [
        {
          "output_type": "stream",
          "name": "stdout",
          "text": [
            "abbas\n",
            "4\n",
            "dict_values(['abbas', 'student', '2nd PU', 'cmr'])\n",
            "dict_keys(['name', 'designation', 'qual', 'univ'])\n",
            "dict_items([('name', 'abbas'), ('designation', 'student'), ('qual', '2nd PU'), ('univ', 'cmr')])\n"
          ]
        }
      ]
    },
    {
      "cell_type": "code",
      "metadata": {
        "colab": {
          "base_uri": "https://localhost:8080/"
        },
        "id": "ol53KB_y4cVW",
        "outputId": "76f2b7b1-1a93-4bab-ed2d-1f1d29bedb82"
      },
      "source": [
        "# get(), copy(), and update() methods\n",
        "\n",
        "dict={'name':'ali','designation':'student','qual':'2nd PU','univ':'cmr', 'name':'abbas'}\n",
        "\n",
        "# The get() method returns the value for the given key, if present in the dictionary. \n",
        "# If not, then it will return None (if get() is used with only one argument).\n",
        "\n",
        "print(dict.get('name'))\n",
        "print(dict.get('edu'))\n",
        "print(dict.get('edu',\"nothing\"))\n",
        "\n",
        "# copy() method is used to copy a dictionary\n",
        "dict1=dict.copy()\n",
        "print(dict1)\n",
        "\n",
        "# update() method appends to a dictionary\n",
        "dict2={'edu':'btech','semester':'7sem'}\n",
        "dict.update(dict2)\n",
        "print(dict)"
      ],
      "execution_count": 38,
      "outputs": [
        {
          "output_type": "stream",
          "name": "stdout",
          "text": [
            "abbas\n",
            "None\n",
            "nothing\n",
            "{'name': 'abbas', 'designation': 'student', 'qual': '2nd PU', 'univ': 'cmr'}\n",
            "{'name': 'abbas', 'designation': 'student', 'qual': '2nd PU', 'univ': 'cmr', 'edu': 'btech', 'semester': '7sem'}\n"
          ]
        }
      ]
    }
  ]
}