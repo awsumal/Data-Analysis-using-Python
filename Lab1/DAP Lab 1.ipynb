{
 "cells": [
  {
   "cell_type": "code",
   "execution_count": 7,
   "id": "362e136a",
   "metadata": {},
   "outputs": [
    {
     "name": "stdout",
     "output_type": "stream",
     "text": [
      "10\n"
     ]
    }
   ],
   "source": [
    "c=10\n",
    "print(c)"
   ]
  },
  {
   "cell_type": "code",
   "execution_count": 8,
   "id": "85746aa8",
   "metadata": {},
   "outputs": [
    {
     "name": "stdout",
     "output_type": "stream",
     "text": [
      "A\n"
     ]
    }
   ],
   "source": [
    "a=65\n",
    "print(chr(a))"
   ]
  },
  {
   "cell_type": "code",
   "execution_count": 9,
   "id": "a6e065d3",
   "metadata": {},
   "outputs": [
    {
     "name": "stdout",
     "output_type": "stream",
     "text": [
      "Ali\n"
     ]
    }
   ],
   "source": [
    "name=\"Ali\"\n",
    "print(name)"
   ]
  },
  {
   "cell_type": "code",
   "execution_count": 10,
   "id": "0b2334ab",
   "metadata": {},
   "outputs": [
    {
     "name": "stdout",
     "output_type": "stream",
     "text": [
      "Enter your name Ali\n",
      "Welcome Ali\n"
     ]
    }
   ],
   "source": [
    "username = input(\"Enter your name \")\n",
    "print(\"Welcome\",name)"
   ]
  },
  {
   "cell_type": "code",
   "execution_count": 11,
   "id": "653b8c35",
   "metadata": {},
   "outputs": [
    {
     "name": "stdout",
     "output_type": "stream",
     "text": [
      "a is of type <class 'int'> \n",
      "b is of type <class 'str'>\n",
      "3\n"
     ]
    }
   ],
   "source": [
    "a=10\n",
    "b='Ali'\n",
    "print(\"a is of type\",type(a),\"\\nb is of type\",type(b))\n",
    "print(len(b))"
   ]
  },
  {
   "cell_type": "code",
   "execution_count": 12,
   "id": "847e74ca",
   "metadata": {},
   "outputs": [
    {
     "name": "stdout",
     "output_type": "stream",
     "text": [
      "True\n"
     ]
    }
   ],
   "source": [
    "c=10\n",
    "print(bool(c))"
   ]
  },
  {
   "cell_type": "code",
   "execution_count": 13,
   "id": "d75805e7",
   "metadata": {},
   "outputs": [
    {
     "name": "stdout",
     "output_type": "stream",
     "text": [
      "2.8333333333333335 10\n"
     ]
    }
   ],
   "source": [
    "e=34\n",
    "d=12\n",
    "f=e/d\n",
    "g=e%d\n",
    "print(f,g)"
   ]
  },
  {
   "cell_type": "code",
   "execution_count": 15,
   "id": "712afc12",
   "metadata": {},
   "outputs": [
    {
     "name": "stdout",
     "output_type": "stream",
     "text": [
      "8 A H\n"
     ]
    }
   ],
   "source": [
    "string=\"ABCDEFGH\"\n",
    "print(len(string),string[0],string[len(string)-1])"
   ]
  },
  {
   "cell_type": "code",
   "execution_count": 16,
   "id": "7219e0d5",
   "metadata": {},
   "outputs": [
    {
     "name": "stdout",
     "output_type": "stream",
     "text": [
      "Welcome to Quick Functions.\n",
      "\n",
      "Choose your option from the list given below:\n",
      "1. Basic Calculations\n",
      "2. ASCII Calculations\n",
      "3. String\n",
      "4. Basic Print Statement\n",
      "5. Datatypes\n",
      "6. Exit\n",
      "5\n",
      "The type of String is <class 'str'> \n",
      "The type of Integer is <class 'int'> \n",
      "The type of Float is <class 'float'>\n",
      "\n",
      "Choose your option from the list given below:\n",
      "1. Basic Calculations\n",
      "2. ASCII Calculations\n",
      "3. String\n",
      "4. Basic Print Statement\n",
      "5. Datatypes\n",
      "6. Exit\n",
      "2\n",
      "Welcome to ASCII Calculator. Choose your option from the list given below\n",
      "1. Character to ASCII\n",
      "2. ASCII to Character\n",
      "1\n",
      "Input Character A\n",
      "65\n",
      "\n",
      "Choose your option from the list given below:\n",
      "1. Basic Calculations\n",
      "2. ASCII Calculations\n",
      "3. String\n",
      "4. Basic Print Statement\n",
      "5. Datatypes\n",
      "6. Exit\n",
      "6\n",
      "Bye\n"
     ]
    }
   ],
   "source": [
    "print(\"Welcome to Quick Functions.\")\n",
    "while True :\n",
    "    var=int(input(\"\\nChoose your option from the list given below:\\n1. Basic Calculations\\n2. ASCII Calculations\\n3. String\\n4. Basic Print Statement\\n5. Datatypes\\n6. Exit\\n\"))\n",
    "    if(var==1):\n",
    "        calc1=int(input(\"\\nWelcome to Basic Calculator. Choose your option from the list given below\\n1. Add\\n2. Subtract\\n3. Multiply\\n4. Divide\\n5. Modulo\\n\"))\n",
    "        a=int(input(\"Enter 1st number \"))\n",
    "        b=int(input(\"Enter 2nd number \"))\n",
    "        if(calc1==1):\n",
    "            print(\"Sum is \",a+b)\n",
    "        elif(calc1==2):\n",
    "            print(\"Difference is \",a-b)\n",
    "        elif(calc1==3):\n",
    "            print(\"Product is \",a*b)\n",
    "        elif(calc1==4):\n",
    "            print(\"Quotient is \",a/b)\n",
    "        elif(calc1==5):\n",
    "            print(\"Remainder is \",a%b)\n",
    "        else:\n",
    "            print(\"Incorrect option.\")\n",
    "    elif(var==2):\n",
    "        calc2=int(input(\"Welcome to ASCII Calculator. Choose your option from the list given below\\n1. Character to ASCII\\n2. ASCII to Character\\n\"))\n",
    "        if(calc2==1):\n",
    "            c=input(\"Input Character \")\n",
    "            print(ord(c))\n",
    "        elif(calc2==2):\n",
    "            d=int(input(\"Input Integer \"))\n",
    "            print(chr(d))\n",
    "        else:\n",
    "            print(\"Incorrect option.\")\n",
    "    elif(var==3):\n",
    "        string=input(\"Enter a string \")\n",
    "        print(\"The length of the string is\",len(string),\"\\nThe first character is\",string[0],\"\\nThe last character is\",string[len(string)-1])\n",
    "    elif(var==4):\n",
    "        name=input(\"Input your name \")\n",
    "        print(\"Your name is \",name)\n",
    "    elif(var==5):\n",
    "        data1=\"String\"\n",
    "        data2=10\n",
    "        data3=14.5\n",
    "        print(\"The type of String is\",type(data1),\"\\nThe type of Integer is\",type(data2),\"\\nThe type of Float is\",type(data3))\n",
    "    elif(var==6):\n",
    "        print(\"Bye\")\n",
    "        break\n",
    "    else:\n",
    "        print(\"Incorrect option.\")"
   ]
  },
  {
   "cell_type": "code",
   "execution_count": null,
   "id": "3062d2b0",
   "metadata": {},
   "outputs": [],
   "source": []
  }
 ],
 "metadata": {
  "kernelspec": {
   "display_name": "Python 3",
   "language": "python",
   "name": "python3"
  },
  "language_info": {
   "codemirror_mode": {
    "name": "ipython",
    "version": 3
   },
   "file_extension": ".py",
   "mimetype": "text/x-python",
   "name": "python",
   "nbconvert_exporter": "python",
   "pygments_lexer": "ipython3",
   "version": "3.8.8"
  }
 },
 "nbformat": 4,
 "nbformat_minor": 5
}
