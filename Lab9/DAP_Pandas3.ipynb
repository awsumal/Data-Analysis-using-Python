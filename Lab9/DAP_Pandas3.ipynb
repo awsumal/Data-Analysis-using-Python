{
  "nbformat": 4,
  "nbformat_minor": 0,
  "metadata": {
    "colab": {
      "name": "DAP Pandas3.ipynb",
      "provenance": [],
      "collapsed_sections": []
    },
    "kernelspec": {
      "name": "python3",
      "display_name": "Python 3"
    },
    "language_info": {
      "name": "python"
    }
  },
  "cells": [
    {
      "cell_type": "markdown",
      "metadata": {
        "id": "QgG40XB209mJ"
      },
      "source": [
        "Functions Applications and Lambda Examples"
      ]
    },
    {
      "cell_type": "code",
      "metadata": {
        "colab": {
          "base_uri": "https://localhost:8080/"
        },
        "id": "iL3coGmz06j5",
        "outputId": "b8dea530-a743-4416-e723-bf2278679328"
      },
      "source": [
        "import pandas as pd\n",
        "import numpy as np\n",
        "\n",
        "def adder(ele1,ele2):\n",
        "  return ele1+ele2\n",
        "\n",
        "df = pd.DataFrame({'col1':[2,1,1,1],'col2':[1,3,2,4],'col3':[2,5,3,4]})\n",
        "print(df)\n",
        "\n",
        "# Using pipe()\n",
        "print(\"\\nPrinting the results of pipe and adding 10\")\n",
        "print(df.pipe(adder,10),'\\n')\n",
        "\n",
        "# Using apply()\n",
        "print(\"Mean using apply\\n\")\n",
        "print(df.apply(np.mean))"
      ],
      "execution_count": null,
      "outputs": [
        {
          "output_type": "stream",
          "name": "stdout",
          "text": [
            "   col1  col2  col3\n",
            "0     2     1     2\n",
            "1     1     3     5\n",
            "2     1     2     3\n",
            "3     1     4     4\n",
            "\n",
            "Printing the results of pipe and adding 10\n",
            "   col1  col2  col3\n",
            "0    12    11    12\n",
            "1    11    13    15\n",
            "2    11    12    13\n",
            "3    11    14    14 \n",
            "\n",
            "Mean using apply\n",
            "\n",
            "col1    1.25\n",
            "col2    2.50\n",
            "col3    3.50\n",
            "dtype: float64\n"
          ]
        }
      ]
    },
    {
      "cell_type": "code",
      "metadata": {
        "colab": {
          "base_uri": "https://localhost:8080/"
        },
        "id": "B5-rHEghnkqI",
        "outputId": "153719a1-b51a-4174-db6e-ce6023f273b6"
      },
      "source": [
        "# Using apply\n",
        "print(\"Mean using apply across row values\")\n",
        "print(df.apply(np.mean,axis=1))\n",
        "\n",
        "# Using map function and lambda\n",
        "print(\"\\nUsing Lambda function\")\n",
        "print(df['col1'].map(lambda x:x*100))"
      ],
      "execution_count": null,
      "outputs": [
        {
          "output_type": "stream",
          "name": "stdout",
          "text": [
            "Mean using apply across row values\n",
            "0    1.666667\n",
            "1    3.000000\n",
            "2    2.000000\n",
            "3    3.000000\n",
            "dtype: float64\n",
            "\n",
            "Using Lambda function\n",
            "0    200\n",
            "1    100\n",
            "2    100\n",
            "3    100\n",
            "Name: col1, dtype: int64\n"
          ]
        }
      ]
    },
    {
      "cell_type": "code",
      "metadata": {
        "colab": {
          "base_uri": "https://localhost:8080/"
        },
        "id": "F1wJ5GWMotOu",
        "outputId": "c06df552-b417-499b-846d-150aa9294348"
      },
      "source": [
        "df=pd.DataFrame({'id':[1,2,3,4,5],'name':['abc','defg','ghs','eeee','wwww'],'age':[11,22,33,44,55], 'income':[9999,8888,7777,6666,5555]})\n",
        "print(df)\n",
        "\n",
        "df['age']=df.apply(lambda x: x['age']+3, axis=1)\n",
        "print(\"\\nIncrementing age\")\n",
        "print(df)\n",
        "\n",
        "df['income']=list(map(lambda x: int(x+x*0.2), df['income']))\n",
        "print(\"\\nIncrementing income\")\n",
        "print(df)\n",
        "\n",
        "df['category']=df['age'].apply(lambda x: 'Adult' if x>=18 else 'Child')\n",
        "print(\"\\nAdding a new column\")\n",
        "print(df)\n",
        "\n",
        "eligible=list(filter(lambda x:x>18, df['age']))\n",
        "print(\"\\nApplying an eligibility criteria\")\n",
        "print(eligible)"
      ],
      "execution_count": null,
      "outputs": [
        {
          "output_type": "stream",
          "name": "stdout",
          "text": [
            "   id  name  age  income\n",
            "0   1   abc   11    9999\n",
            "1   2  defg   22    8888\n",
            "2   3   ghs   33    7777\n",
            "3   4  eeee   44    6666\n",
            "4   5  wwww   55    5555\n",
            "\n",
            "Incrementing age\n",
            "   id  name  age  income\n",
            "0   1   abc   14    9999\n",
            "1   2  defg   25    8888\n",
            "2   3   ghs   36    7777\n",
            "3   4  eeee   47    6666\n",
            "4   5  wwww   58    5555\n",
            "\n",
            "Incrementing income\n",
            "   id  name  age  income\n",
            "0   1   abc   14   11998\n",
            "1   2  defg   25   10665\n",
            "2   3   ghs   36    9332\n",
            "3   4  eeee   47    7999\n",
            "4   5  wwww   58    6666\n",
            "\n",
            "Adding a new column\n",
            "   id  name  age  income category\n",
            "0   1   abc   14   11998    Child\n",
            "1   2  defg   25   10665    Adult\n",
            "2   3   ghs   36    9332    Adult\n",
            "3   4  eeee   47    7999    Adult\n",
            "4   5  wwww   58    6666    Adult\n",
            "\n",
            "Applying an eligibility criteria\n",
            "[25, 36, 47, 58]\n"
          ]
        }
      ]
    },
    {
      "cell_type": "code",
      "metadata": {
        "colab": {
          "base_uri": "https://localhost:8080/"
        },
        "id": "kNE5D6b7qJK_",
        "outputId": "52429306-e0ee-45ce-d575-4ebe27930245"
      },
      "source": [
        "'''The reduce(fun,seq) function is used to apply a particular function passed in its argument to all of the list elements mentioned in the sequence passed along.\n",
        "This function is defined in “functools” module. The functools module is for higher-order functions: functions that act on or return other functions. \n",
        "In general, any callable object can be treated as a function for the purposes of this module.'''\n",
        "\n",
        "import functools\n",
        "functools.reduce(lambda a,b: a+b, df['income'])"
      ],
      "execution_count": null,
      "outputs": [
        {
          "output_type": "execute_result",
          "data": {
            "text/plain": [
              "46660"
            ]
          },
          "metadata": {},
          "execution_count": 26
        }
      ]
    },
    {
      "cell_type": "code",
      "metadata": {
        "colab": {
          "base_uri": "https://localhost:8080/"
        },
        "id": "sCAO6dH0s2oY",
        "outputId": "cac86194-dbce-4e26-f86c-304aaad946ce"
      },
      "source": [
        "values= [['Rohan',455],['Elvish',250],['Deepak',495],['Soni',400],['Radhika',350],['Vansh',450]]\n",
        "df = pd.DataFrame(values,columns=['Name','Total_Marks'])\n",
        "print(df)\n",
        "\n",
        "print(\"\\nFinding Percentage and assigning to a new column\")\n",
        "df = df.assign(Percentage = lambda x: (x['Total_Marks'] /500 * 100))\n",
        "print(df)"
      ],
      "execution_count": null,
      "outputs": [
        {
          "output_type": "stream",
          "name": "stdout",
          "text": [
            "      Name  Total_Marks\n",
            "0    Rohan          455\n",
            "1   Elvish          250\n",
            "2   Deepak          495\n",
            "3     Soni          400\n",
            "4  Radhika          350\n",
            "5    Vansh          450\n",
            "\n",
            "Finding Percentage and assigning to a new column\n",
            "      Name  Total_Marks  Percentage\n",
            "0    Rohan          455        91.0\n",
            "1   Elvish          250        50.0\n",
            "2   Deepak          495        99.0\n",
            "3     Soni          400        80.0\n",
            "4  Radhika          350        70.0\n",
            "5    Vansh          450        90.0\n"
          ]
        }
      ]
    },
    {
      "cell_type": "code",
      "metadata": {
        "colab": {
          "base_uri": "https://localhost:8080/"
        },
        "id": "85oDdhvDuA03",
        "outputId": "f6718a6b-f0aa-4f5b-9648-4ea7c07b45df"
      },
      "source": [
        "values_list = [[15, 2.5, 100], [20, 4.5, 50], [25, 5.2, 80], [45, 5.8, 48], [40, 6.3, 70], [41, 6.4, 90], [51, 2.3, 111]]\n",
        "df = pd.DataFrame(values_list, columns=['Field_1', 'Field_2', 'Field_3'],index=['a', 'b', 'c', 'd', 'e', 'f', 'g'])\n",
        "print(df)\n",
        "\n",
        "print(\"\\nFinding product and assigning to a new column\")\n",
        "df = df.assign(Product=lambda x: (x['Field_1'] * x['Field_2'] * x['Field_3']))\n",
        "print(df)\n",
        "\n",
        "print(\"\\nFinding sqaure and updating if name is d\")\n",
        "df = df.apply(lambda x: np.square(x) if x.name in ['a', 'e', 'g'] else x, axis=1)\n",
        "print(df)"
      ],
      "execution_count": null,
      "outputs": [
        {
          "output_type": "stream",
          "name": "stdout",
          "text": [
            "   Field_1  Field_2  Field_3\n",
            "a       15      2.5      100\n",
            "b       20      4.5       50\n",
            "c       25      5.2       80\n",
            "d       45      5.8       48\n",
            "e       40      6.3       70\n",
            "f       41      6.4       90\n",
            "g       51      2.3      111\n",
            "\n",
            "Finding product and assigning to a new column\n",
            "   Field_1  Field_2  Field_3  Product\n",
            "a       15      2.5      100   3750.0\n",
            "b       20      4.5       50   4500.0\n",
            "c       25      5.2       80  10400.0\n",
            "d       45      5.8       48  12528.0\n",
            "e       40      6.3       70  17640.0\n",
            "f       41      6.4       90  23616.0\n",
            "g       51      2.3      111  13020.3\n",
            "\n",
            "Finding sqaure and updating if name is d\n",
            "   Field_1  Field_2  Field_3       Product\n",
            "a    225.0     6.25  10000.0  1.406250e+07\n",
            "b     20.0     4.50     50.0  4.500000e+03\n",
            "c     25.0     5.20     80.0  1.040000e+04\n",
            "d     45.0     5.80     48.0  1.252800e+04\n",
            "e   1600.0    39.69   4900.0  3.111696e+08\n",
            "f     41.0     6.40     90.0  2.361600e+04\n",
            "g   2601.0     5.29  12321.0  1.695282e+08\n"
          ]
        }
      ]
    }
  ]
}