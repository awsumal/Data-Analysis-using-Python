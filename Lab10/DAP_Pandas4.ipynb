{
  "nbformat": 4,
  "nbformat_minor": 0,
  "metadata": {
    "colab": {
      "name": "DAP Pandas4.ipynb",
      "provenance": [],
      "collapsed_sections": []
    },
    "kernelspec": {
      "name": "python3",
      "display_name": "Python 3"
    },
    "language_info": {
      "name": "python"
    }
  },
  "cells": [
    {
      "cell_type": "markdown",
      "metadata": {
        "id": "1rysf_MnvWyq"
      },
      "source": [
        "Pandas Descriptive Statistics"
      ]
    },
    {
      "cell_type": "code",
      "metadata": {
        "id": "img8TwjpvTwD",
        "colab": {
          "base_uri": "https://localhost:8080/"
        },
        "outputId": "74927d61-edad-4f3d-eac7-a074d4f10a8b"
      },
      "source": [
        "import pandas as pd\n",
        "import numpy as np\n",
        "\n",
        "#Create a Dictionary of series\n",
        "d = {\n",
        "  'Name':pd.Series(['Tom','James','Ricky','Vin','Steve','Smith','Jack','Lee','David','Gasper','Betina','Andres']),\n",
        "  'Age':pd.Series([25,26,25,23,30,29,23,34,40,30,51,46]),\n",
        "  'Rating':pd.Series([4.23,3.24,3.98,2.56,3.20,4.6,3.8,3.78,2.98,4.80,4.10,3.65])\n",
        "}\n",
        "\n",
        "#Create a DataFrame\n",
        "df = pd.DataFrame(d)\n",
        "print(df,'\\n')\n",
        "\n",
        "# Using .sum() (default axis=0)\n",
        "print(df.sum(),'\\n')\n",
        "\n",
        "# Using .sum() (axis=1)\n",
        "print(df.sum(1))"
      ],
      "execution_count": null,
      "outputs": [
        {
          "output_type": "stream",
          "name": "stdout",
          "text": [
            "      Name  Age  Rating\n",
            "0      Tom   25    4.23\n",
            "1    James   26    3.24\n",
            "2    Ricky   25    3.98\n",
            "3      Vin   23    2.56\n",
            "4    Steve   30    3.20\n",
            "5    Smith   29    4.60\n",
            "6     Jack   23    3.80\n",
            "7      Lee   34    3.78\n",
            "8    David   40    2.98\n",
            "9   Gasper   30    4.80\n",
            "10  Betina   51    4.10\n",
            "11  Andres   46    3.65 \n",
            "\n",
            "Name      TomJamesRickyVinSteveSmithJackLeeDavidGasperBe...\n",
            "Age                                                     382\n",
            "Rating                                                44.92\n",
            "dtype: object \n",
            "\n",
            "0     29.23\n",
            "1     29.24\n",
            "2     28.98\n",
            "3     25.56\n",
            "4     33.20\n",
            "5     33.60\n",
            "6     26.80\n",
            "7     37.78\n",
            "8     42.98\n",
            "9     34.80\n",
            "10    55.10\n",
            "11    49.65\n",
            "dtype: float64\n"
          ]
        }
      ]
    },
    {
      "cell_type": "code",
      "metadata": {
        "colab": {
          "base_uri": "https://localhost:8080/"
        },
        "id": "-uJ9BmBL8-jv",
        "outputId": "6b2bd5ab-644c-4d90-f4c9-e6267dd263e4"
      },
      "source": [
        "# Mean\n",
        "print(df.mean(),'\\n')\n",
        "\n",
        "# Standard deviation\n",
        "print(df.std(),'\\n')\n",
        "\n",
        "# Describing the data\n",
        "print(df.describe(),'\\n')\n",
        "\n",
        "# Describing objects\n",
        "print(df.describe(include=['object']),'\\n')\n",
        "\n",
        "# Describing all data\n",
        "print(df.describe(include='all'))"
      ],
      "execution_count": null,
      "outputs": [
        {
          "output_type": "stream",
          "name": "stdout",
          "text": [
            "Age       31.833333\n",
            "Rating     3.743333\n",
            "dtype: float64 \n",
            "\n",
            "Age       9.232682\n",
            "Rating    0.661628\n",
            "dtype: float64 \n",
            "\n",
            "             Age     Rating\n",
            "count  12.000000  12.000000\n",
            "mean   31.833333   3.743333\n",
            "std     9.232682   0.661628\n",
            "min    23.000000   2.560000\n",
            "25%    25.000000   3.230000\n",
            "50%    29.500000   3.790000\n",
            "75%    35.500000   4.132500\n",
            "max    51.000000   4.800000 \n",
            "\n",
            "         Name\n",
            "count      12\n",
            "unique     12\n",
            "top     James\n",
            "freq        1 \n",
            "\n",
            "         Name        Age     Rating\n",
            "count      12  12.000000  12.000000\n",
            "unique     12        NaN        NaN\n",
            "top     James        NaN        NaN\n",
            "freq        1        NaN        NaN\n",
            "mean      NaN  31.833333   3.743333\n",
            "std       NaN   9.232682   0.661628\n",
            "min       NaN  23.000000   2.560000\n",
            "25%       NaN  25.000000   3.230000\n",
            "50%       NaN  29.500000   3.790000\n",
            "75%       NaN  35.500000   4.132500\n",
            "max       NaN  51.000000   4.800000\n"
          ]
        }
      ]
    },
    {
      "cell_type": "code",
      "metadata": {
        "colab": {
          "base_uri": "https://localhost:8080/"
        },
        "id": "YOhl-bIg9r3f",
        "outputId": "e8dac7c4-41f2-4666-bbcc-6ee205b4cbb1"
      },
      "source": [
        "cart = {\n",
        "    'Product': ['Mobile', 'AC', 'Mobile', 'Sofa', 'Laptop'],\n",
        "\t\t'Price': [20000, 28000, 22000, 19000, 45000],\n",
        "\t\t'Year': [2014, 2015, 2016, 2017, 2018]\n",
        "\t\t}\n",
        "df = pd.DataFrame(cart, columns = ['Product', 'Price', 'Year'])\n",
        "\n",
        "# Original DataFrame\n",
        "print(\"Original DataFrame:\\n\", df)\n",
        "\n",
        "# Describing descriptive statistics of Price\n",
        "print(\"\\nDescriptive statistics of Price:\\n\")\n",
        "stats = df['Price'].describe()\n",
        "print(stats)"
      ],
      "execution_count": null,
      "outputs": [
        {
          "output_type": "stream",
          "name": "stdout",
          "text": [
            "Original DataFrame:\n",
            "   Product  Price  Year\n",
            "0  Mobile  20000  2014\n",
            "1      AC  28000  2015\n",
            "2  Mobile  22000  2016\n",
            "3    Sofa  19000  2017\n",
            "4  Laptop  45000  2018\n",
            "\n",
            "Descriptive statistics of Price:\n",
            "\n",
            "count        5.000000\n",
            "mean     26800.000000\n",
            "std      10756.393448\n",
            "min      19000.000000\n",
            "25%      20000.000000\n",
            "50%      22000.000000\n",
            "75%      28000.000000\n",
            "max      45000.000000\n",
            "Name: Price, dtype: float64\n"
          ]
        }
      ]
    },
    {
      "cell_type": "code",
      "metadata": {
        "colab": {
          "base_uri": "https://localhost:8080/"
        },
        "id": "6I3bM43b-Fms",
        "outputId": "5fcfb6a1-617c-473f-9be1-e8c443ba1724"
      },
      "source": [
        "# Print Count of Price\n",
        "print(\"Count of Price:\")\n",
        "counts = df['Price'].count()\n",
        "print(counts)\n",
        "\n",
        "# Print mean of Price\n",
        "print(\"\\nMean of Price:\")\n",
        "m = df['Price'].mean()\n",
        "print(m)\n",
        "\n",
        "# Print maximum value of Price\n",
        "print(\"\\nMaximum value of Price:\")\n",
        "mx = df['Price'].max()\n",
        "print(m)\n",
        "\n",
        "# Print standard deviation of Price\n",
        "print(\"\\nStandard deviation of Price:\")\n",
        "sd = df['Price'].std()\n",
        "print(sd)"
      ],
      "execution_count": null,
      "outputs": [
        {
          "output_type": "stream",
          "name": "stdout",
          "text": [
            "Count of Price:\n",
            "5\n",
            "\n",
            "Mean of Price:\n",
            "26800.0\n",
            "\n",
            "Maximum value of Price:\n",
            "26800.0\n",
            "\n",
            "Standard deviation of Price:\n",
            "10756.393447619885\n"
          ]
        }
      ]
    },
    {
      "cell_type": "markdown",
      "metadata": {
        "id": "VsJRMVCtxscx"
      },
      "source": [
        "Pandas Data Filtering"
      ]
    },
    {
      "cell_type": "code",
      "metadata": {
        "colab": {
          "base_uri": "https://localhost:8080/"
        },
        "id": "Gy5c99fx-vj8",
        "outputId": "d839ad08-d9c1-4793-9e57-2655721b141a"
      },
      "source": [
        "dupli={\n",
        "    'Name' :['a','s','d','e','gh','j','kk','gh','e','gh','a'],\n",
        "    'Eng' : [33,35,36,37,38,39,40,38,37,38,33],\n",
        "    'Maths':[56,66,33,86,96,33,11,96,86,96,56],\n",
        "    'Sci':[77,79,81,83,33,87,89,33,83,33,77]\n",
        "}\n",
        "\n",
        "df=pd.DataFrame(dupli)\n",
        "print(df.head(),'\\n')\n",
        "\n",
        "# Finding total\n",
        "df['Total']=df.sum(1)\n",
        "print(df.head(),'\\n')\n",
        "\n",
        "# Finding total greater than 170\n",
        "print(df.loc[df['Total']<170],'\\n')"
      ],
      "execution_count": null,
      "outputs": [
        {
          "output_type": "stream",
          "name": "stdout",
          "text": [
            "  Name  Eng  Maths  Sci\n",
            "0    a   33     56   77\n",
            "1    s   35     66   79\n",
            "2    d   36     33   81\n",
            "3    e   37     86   83\n",
            "4   gh   38     96   33 \n",
            "\n",
            "  Name  Eng  Maths  Sci  Total\n",
            "0    a   33     56   77    166\n",
            "1    s   35     66   79    180\n",
            "2    d   36     33   81    150\n",
            "3    e   37     86   83    206\n",
            "4   gh   38     96   33    167 \n",
            "\n",
            "   Name  Eng  Maths  Sci  Total\n",
            "0     a   33     56   77    166\n",
            "2     d   36     33   81    150\n",
            "4    gh   38     96   33    167\n",
            "5     j   39     33   87    159\n",
            "6    kk   40     11   89    140\n",
            "7    gh   38     96   33    167\n",
            "9    gh   38     96   33    167\n",
            "10    a   33     56   77    166 \n",
            "\n"
          ]
        }
      ]
    },
    {
      "cell_type": "code",
      "metadata": {
        "colab": {
          "base_uri": "https://localhost:8080/"
        },
        "id": "9ZWQ9bCzBV-I",
        "outputId": "8c5e5dbe-08f3-48c0-c6ce-7218826aca12"
      },
      "source": [
        "# Applying AND condition\n",
        "print(df.loc[(df['Eng']> 38) & (df['Maths']<50)],'\\n')\n",
        "\n",
        "# Applying OR condition\n",
        "print(df.loc[(df['Eng']> 38) | (df['Maths']<50)],'\\n')\n",
        "\n",
        "# String - containts, startswith, endswith\n",
        "print(df.loc[df['Name'].str.contains(\"j\")],'\\n')\n",
        "print(df.loc[df['Name'].str.startswith(\"k\")],'\\n')\n",
        "print(df.loc[df['Name'].str.endswith(\"h\")])"
      ],
      "execution_count": null,
      "outputs": [
        {
          "output_type": "stream",
          "name": "stdout",
          "text": [
            "  Name  Eng  Maths  Sci  Total\n",
            "5    j   39     33   87    159\n",
            "6   kk   40     11   89    140 \n",
            "\n",
            "  Name  Eng  Maths  Sci  Total\n",
            "2    d   36     33   81    150\n",
            "5    j   39     33   87    159\n",
            "6   kk   40     11   89    140 \n",
            "\n",
            "  Name  Eng  Maths  Sci  Total\n",
            "5    j   39     33   87    159 \n",
            "\n",
            "  Name  Eng  Maths  Sci  Total\n",
            "6   kk   40     11   89    140 \n",
            "\n",
            "  Name  Eng  Maths  Sci  Total\n",
            "4   gh   38     96   33    167\n",
            "7   gh   38     96   33    167\n",
            "9   gh   38     96   33    167\n"
          ]
        }
      ]
    }
  ]
}